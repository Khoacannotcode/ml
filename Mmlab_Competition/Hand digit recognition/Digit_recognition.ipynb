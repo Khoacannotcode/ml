{
 "cells": [
  {
   "cell_type": "markdown",
   "metadata": {},
   "source": [
    "## Digit Recognition (Nhận dạng chữ số)"
   ]
  },
  {
   "cell_type": "markdown",
   "metadata": {},
   "source": [
    "## 1. Bài toán"
   ]
  },
  {
   "cell_type": "markdown",
   "metadata": {},
   "source": [
    "### Đề bài"
   ]
  },
  {
   "cell_type": "markdown",
   "metadata": {},
   "source": [
    "Với bộ dữ liệu được cho đã được rút trích đặt trưng thành các vector đặc trưng và được gán nhãn, hãy đi xây dựng mô hình sao cho với mỗi ảnh input đầu vào (vector đặc trưng mới) thì cho ra được chữ số nằm trong ảnh."
   ]
  },
  {
   "cell_type": "markdown",
   "metadata": {},
   "source": [
    "![Digit recognition](https://nextjournal.com/data/QmX8QN5JuvZdGZ7nczmzB1z3xMDMeWqyLQ82MTx8nU6U2n?content-type=image%2Fsvg%2Bxml)"
   ]
  },
  {
   "cell_type": "markdown",
   "metadata": {},
   "source": [
    "### Mô tả dữ liệu"
   ]
  },
  {
   "cell_type": "markdown",
   "metadata": {},
   "source": [
    "Dữ liệu của cuộc thi là tập dữ liệu ảnh thang màu xám, tức là mỗi một pixel có giá trị nằm trong đoạn từ 0 đến 255. kích thước của mỗi ảnh đều là 28 x 28 pixels.\n",
    "\n",
    "Gồm hai phần là tập huấn luyện và tập kiểm thử được lưu tương ứng trong hai file là `train.csv` và `test.csv`.\n",
    "\n",
    "- Về dữ liệu huấn luyện: \n",
    "    - Được chứa trong file có tên là train.csv, bên trong có 29400 dòng *(hồi sau sẽ rõ)*, mỗi dòng có 785 cột *(hồi sau sẽ rõ)*, ở dòng thứ `i`, cột đầu tiên ứng với nhãn của ảnh thứ `i` tức là chữ số được gán nhãn cho ảnh thứ `i`, 784 cột còn lại là các giá trị bên trong vector đặc trưng hay nói chính xác hơn là hình dạng của bức ảnh sau khi được `duỗi thẳng`.\n",
    "- Về dữ liệu kiểm thử:\n",
    "    - Được chứa trong file test.csv, bên trong có 12600 dòng *(hồi sau sẽ rõ)*, mỗi dòng có 784 cột, biểu diễn cho các giá trị đặc trưng của vector đặc trưng cho mỗi một ảnh đầu vào và đương nhiên là chưa được gán nhãn.\n",
    "    \n",
    "    \n",
    "**Nhiệm vụ của chúng ta là xây dựng mô hình để từ tập dữ liệu huấn luyện training set, tạo ra một mô hình có khả năng điền vào file text.csv nhãn của các vector đặc trưng một cách chính xác nhất có thể.**"
   ]
  },
  {
   "cell_type": "markdown",
   "metadata": {},
   "source": [
    "## 2. Tiến hành xử lý bài toán"
   ]
  },
  {
   "cell_type": "markdown",
   "metadata": {},
   "source": [
    "Bài toán nhận diễn chữ viết tay là một bài toán Machine Learning, cụ thể hơn nữa là bài toán Supervised Learning (từ một tập dữ liệu cho trước đã được gán nhãn, đi xây dựng mô hình sau cho với mỗi điểm dữ liệu đầu vào ta dựa đoán được giá trị đầu ra tương ứng).\n",
    "\n",
    "Chúng ta sẽ dựa theo flow làm việc với Machine Learning để tiến hành giải quyết bài toán"
   ]
  },
  {
   "cell_type": "markdown",
   "metadata": {},
   "source": [
    "![Flow woring in Machine Learning](https://i.pinimg.com/originals/c0/c5/ca/c0c5caf00c10a5dec3d690017ca19c77.png)"
   ]
  },
  {
   "cell_type": "markdown",
   "metadata": {},
   "source": [
    "### Import thư viện"
   ]
  },
  {
   "cell_type": "code",
   "execution_count": 1,
   "metadata": {},
   "outputs": [],
   "source": [
    "import pandas as pd\n",
    "import numpy as np\n",
    "import matplotlib.pyplot as plt\n",
    "import random"
   ]
  },
  {
   "cell_type": "markdown",
   "metadata": {},
   "source": [
    "### Chuẩn bị dữ liệu"
   ]
  },
  {
   "cell_type": "code",
   "execution_count": 2,
   "metadata": {},
   "outputs": [],
   "source": [
    "data = pd.read_csv(\"train.csv\")"
   ]
  },
  {
   "cell_type": "markdown",
   "metadata": {},
   "source": [
    "***Chú ý***: *Do dữ liệu đầu vào của chúng ta đã là vector đặc trưng sau khi đã được rút trích nên chúng ta không cần phải quay lại bước tiền xử lý dữ liệu.*"
   ]
  },
  {
   "cell_type": "markdown",
   "metadata": {},
   "source": [
    "#### Kiểm tra một số tính chất của tập dữ liệu"
   ]
  },
  {
   "cell_type": "code",
   "execution_count": 3,
   "metadata": {},
   "outputs": [
    {
     "name": "stdout",
     "output_type": "stream",
     "text": [
      "Kich thuoc bo du lieu huan luyen la:  29400\n",
      "Index(['label', 'pixel0', 'pixel1', 'pixel2', 'pixel3', 'pixel4', 'pixel5',\n",
      "       'pixel6', 'pixel7', 'pixel8',\n",
      "       ...\n",
      "       'pixel774', 'pixel775', 'pixel776', 'pixel777', 'pixel778', 'pixel779',\n",
      "       'pixel780', 'pixel781', 'pixel782', 'pixel783'],\n",
      "      dtype='object', length=785)\n"
     ]
    }
   ],
   "source": [
    "# Xem số kích thước bộ dữ liệu\n",
    "print(\"Kich thuoc bo du lieu huan luyen la: \", len(data))\n",
    "\n",
    "# Xem các đặc trưng\n",
    "print(data.columns)"
   ]
  },
  {
   "cell_type": "markdown",
   "metadata": {},
   "source": [
    "#### Xem dữ liệu huấn luyên có tính cân bằng không"
   ]
  },
  {
   "cell_type": "code",
   "execution_count": 4,
   "metadata": {},
   "outputs": [
    {
     "data": {
      "image/png": "[encoded data removed]",
      "text/plain": [
       "<Figure size 648x432 with 1 Axes>"
      ]
     },
     "metadata": {
      "needs_background": "light"
     },
     "output_type": "display_data"
    }
   ],
   "source": [
    "digits = [0, 1, 2, 3, 4, 5, 6, 7, 8, 9]\n",
    "counts = [0, 0, 0, 0, 0 ,0 , 0 , 0, 0, 0]\n",
    "\n",
    "for i in range(0, len(data)):\n",
    "    index = data['label'].values[i]\n",
    "    counts[index] += 1\n",
    "    \n",
    "fig, ax = plt.subplots(figsize=(9,6))\n",
    "\n",
    "ax.bar(digits, counts, width=0.5)\n",
    "\n",
    "ax.set_title('Thống kê số lượng ảnh của mỗi class', fontsize=18)\n",
    "ax.set_xlabel('Chữ số', fontsize=14)\n",
    "ax.set_ylabel('Số lượng ảnh', fontsize=14)\n",
    "\n",
    "plt.xticks(digits, fontsize=14)\n",
    "\n",
    "plt.show()"
   ]
  },
  {
   "cell_type": "markdown",
   "metadata": {},
   "source": [
    "Khá là cân bằng rồi các bạn nhỉ !"
   ]
  },
  {
   "cell_type": "markdown",
   "metadata": {},
   "source": [
    "#### Chia dữ liệu huấn luyện"
   ]
  },
  {
   "cell_type": "code",
   "execution_count": 5,
   "metadata": {},
   "outputs": [],
   "source": [
    "percent_train = 1.0\n",
    "len_train = int(len(data)*percent_train)\n",
    "\n",
    "label = np.array(data['label'][0:len_train])\n",
    "vector = np.array(data.iloc[:len_train,1:])\n",
    "\n",
    "test_label = np.array(data['label'][len_train:])\n",
    "test_vector = np.array(data.iloc[len_train:,1:])"
   ]
  },
  {
   "cell_type": "markdown",
   "metadata": {},
   "source": [
    "### Xây dựng mô hình (Chọn thuật toán huấn luyện)"
   ]
  },
  {
   "cell_type": "code",
   "execution_count": 6,
   "metadata": {
    "scrolled": true
   },
   "outputs": [
    {
     "name": "stderr",
     "output_type": "stream",
     "text": [
      "/opt/tljh/user/lib/python3.6/site-packages/sklearn/ensemble/forest.py:245: FutureWarning: The default value of n_estimators will change from 10 in version 0.20 to 100 in 0.22.\n",
      "  \"10 in version 0.20 to 100 in 0.22.\", FutureWarning)\n"
     ]
    },
    {
     "data": {
      "text/plain": [
       "0.9956462585034014"
      ]
     },
     "execution_count": 6,
     "metadata": {},
     "output_type": "execute_result"
    }
   ],
   "source": [
    "from sklearn.ensemble import RandomForestClassifier\n",
    "\n",
    "# chọn randomforest các tham số tùy chỉnh...\n",
    "clf2 = RandomForestClassifier(max_depth=15)\n",
    "clf2.fit(vector, label)\n",
    "\n",
    "# Chọn độ đo cho bài toán\n",
    "clf2.score(vector, label)"
   ]
  },
  {
   "cell_type": "markdown",
   "metadata": {},
   "source": [
    "***Chú ý***: *Bước này có thể lặp lại nhiều lần khi mà accuracy không cao hay chưa đạt yêu cầu đặt ra, vì vậy chọn ra thuật toán để huấn luyện là một vấn đề.*"
   ]
  },
  {
   "cell_type": "markdown",
   "metadata": {},
   "source": [
    "### Kiểm thử mô hình"
   ]
  },
  {
   "cell_type": "code",
   "execution_count": 7,
   "metadata": {},
   "outputs": [],
   "source": [
    "# đọc dữ liệu từ tập test\n",
    "data2 = pd.read_csv(\"test.csv\")\n",
    "vector2 = np.array(data2.iloc[:,:])\n",
    "\n",
    "#predict = model lúc nãy.\n",
    "kq = np.array(clf2.predict(vector2))"
   ]
  },
  {
   "cell_type": "markdown",
   "metadata": {},
   "source": [
    "#### Ghi lại kết quả của bài toán"
   ]
  },
  {
   "cell_type": "code",
   "execution_count": 8,
   "metadata": {},
   "outputs": [],
   "source": [
    "#thêm row đầu tiên chứa tên cột là ImangeID và Label\n",
    "df = pd.DataFrame(columns=['ImageId','Label'])\n",
    "\n",
    "#Duyệt dữ kết quả và ghi vào df\n",
    "\n",
    "for i, v in enumerate(kq):\n",
    "  df = df.append({'ImageId':i+1,'Label':v}, ignore_index=True)\n",
    "\n",
    "# ghi file rồi sub thôi :D \n",
    "df.to_csv('final.csv',index = False)"
   ]
  },
  {
   "cell_type": "markdown",
   "metadata": {},
   "source": [
    "## 3. Submit"
   ]
  },
  {
   "cell_type": "code",
   "execution_count": 9,
   "metadata": {},
   "outputs": [],
   "source": [
    "import math, requests\n",
    "\n",
    "def submit_prediction(df, sep=',', comment='', compression='gzip', **kwargs):\n",
    "    TOKEN='XXXXXXXXXXXXXXXXXXXXXXXXXXXXXXXXXXXXXXXXXXXXXXXXXXXXXXXXX - yout submition !'\n",
    "    URL='http://submission.mmlab.uit.edu.vn/api/submissions'\n",
    "    df.to_csv('temporary.dat', sep=sep, compression=compression, **kwargs)\n",
    "    r = requests.post(URL, headers={'Authorization': 'Bearer {}'.format(TOKEN)},files={'datafile': open('temporary.dat', 'rb')},data={'comment':comment, 'compression': compression})\n",
    "    if r.status_code == 429:\n",
    "        raise Exception('Submissions are too close. Next submission is only allowed in {} seconds.'.format(int(math.ceil(int(r.headers['x-rate-limit-remaining']) / 1000.0))))\n",
    "    if r.status_code != 200:\n",
    "        raise Exception(r.text)"
   ]
  },
  {
   "cell_type": "code",
   "execution_count": 10,
   "metadata": {},
   "outputs": [],
   "source": [
    "path = 'final.csv'\n",
    "file = pd.read_csv(path)\n",
    "submit_prediction(file, sep=',', index=True, comment='my submission')"
   ]
  },
  {
   "cell_type": "markdown",
   "metadata": {},
   "source": [
    "![My submmititon](https://scontent.fsgn2-4.fna.fbcdn.net/v/t1.15752-9/81656585_541234093140303_1041209714475532288_n.png?_nc_cat=101&_nc_oc=AQnCcrJL4slm7Ia349LQlaJIsuRe4iGWGmeiObNgYnYGsUagZY2bnVnbd7Zcl6ZEDeo&_nc_ht=scontent.fsgn2-4.fna&oh=ba7e695f1e0b6ebaa4f65a1c885fb395&oe=5ED9E8EB)"
   ]
  }
 ],
 "metadata": {
  "kernelspec": {
   "display_name": "Python 3",
   "language": "python",
   "name": "python3"
  },
  "language_info": {
   "codemirror_mode": {
    "name": "ipython",
    "version": 3
   },
   "file_extension": ".py",
   "mimetype": "text/x-python",
   "name": "python",
   "nbconvert_exporter": "python",
   "pygments_lexer": "ipython3",
   "version": "3.6.7"
  },
  "latex_envs": {
   "LaTeX_envs_menu_present": true,
   "autoclose": false,
   "autocomplete": true,
   "bibliofile": "biblio.bib",
   "cite_by": "apalike",
   "current_citInitial": 1,
   "eqLabelWithNumbers": true,
   "eqNumInitial": 1,
   "hotkeys": {
    "equation": "Ctrl-E",
    "itemize": "Ctrl-I"
   },
   "labels_anchors": false,
   "latex_user_defs": false,
   "report_style_numbering": false,
   "user_envs_cfg": false
  },
  "toc": {
   "base_numbering": 1,
   "nav_menu": {},
   "number_sections": false,
   "sideBar": true,
   "skip_h1_title": true,
   "title_cell": "Table of Contents",
   "title_sidebar": "Contents",
   "toc_cell": false,
   "toc_position": {
    "height": "calc(100% - 180px)",
    "left": "10px",
    "top": "150px",
    "width": "208.188px"
   },
   "toc_section_display": true,
   "toc_window_display": true
  }
 },
 "nbformat": 4,
 "nbformat_minor": 2
}
