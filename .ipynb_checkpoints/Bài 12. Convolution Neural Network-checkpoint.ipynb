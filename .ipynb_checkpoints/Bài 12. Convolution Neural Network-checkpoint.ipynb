{
 "cells": [
  {
   "cell_type": "markdown",
   "metadata": {},
   "source": [
    "# Bài 12. Convolution Neural Network"
   ]
  },
  {
   "cell_type": "markdown",
   "metadata": {},
   "source": [
    "Trong các mạng neural, mạng **Convolution Neural(ConvNets hoặc CNNs)** là một trong những loại chính để nhận dạng hình ảnh, phân loại hình ảnh. Phát hiện đối tượng, nhận dạng khuôn mặt, v.v., là một số lĩnh vực mà CNN được sử dụng rộng rãi.\n",
    "\n",
    "Phân loại hình ảnh bằng CNN lấy một hình ảnh đầu vào, xử lý nó và phân loại nó theo các danh mục nhất định (Ví dụ: Dog, Cat, Tiger, Lion). Máy tính nhìn thấy một hình ảnh đầu vào như mảng của pixel và nó phụ thuộc vào độ phân giải hình ảnh.\n",
    "\n",
    "Dựa vào độ phân giải hình ảnh, nó sẽ thấy $h \\times w \\times d (h = Chiều cao, w = Chiều rộng, d = Kích thước)$. Ví dụ: Một hình ảnh gồm 6 x 6 x 3 mảng ma trận RGB (3 liên quan đến các giá trị RGB) và một hình ảnh của 4 x 4 x 1 mảng ma trận của hình ảnh thang độ xám.\n",
    "\n",
    "![](https://miro.medium.com/max/231/1*CBY94wikMUCZMB4-Xxs-pw.png)"
   ]
  },
  {
   "cell_type": "markdown",
   "metadata": {},
   "source": [
    "Về mặt kỹ thuật, các mô hình Deep Learning sử dụng CNN để training và testing, mỗi hình ảnh đầu vào sẽ chuyển nó qua một loạt các lớp tích chập với các bộ lọc (Kernals). Các lớp được kết nối đầy đủ (Full Conection) và áp dụng hàm Softmax để phân loại một đối tượng có giá trị xác suất từ 0 và 1. Hình dưới đây là một luồng CNN hoàn chỉnh để xử lý hình ảnh đầu vào và phân loại các đối tượng dựa trên các giá trị.\n",
    "![](https://miro.medium.com/max/1255/1*XbuW8WuRrAY5pC4t-9DZAQ.jpeg)"
   ]
  },
  {
   "cell_type": "markdown",
   "metadata": {},
   "source": [
    "## Convolution Layer\n",
    "Convolution là lớp đầu tiên để trích xuất các đặc trưng từ một hình ảnh đầu vào. Convolution duy trì mối quan hệ giữa các pixel bằng cách tìm hiểu các đặc trưng hình ảnh bằng cách sử dụng các ô vuông nhỏ của dữ liệu đầu vào. Đây là một phép toán có hai đầu vào như ma trận hình ảnh và ma trận kernel.\n",
    "![](https://miro.medium.com/max/461/1*kYSsNpy0b3fIonQya66VSQ.png)"
   ]
  },
  {
   "cell_type": "markdown",
   "metadata": {},
   "source": [
    "- Hãy xem xét ma trận 5 x 5 có giá trị pixel hình ảnh là 0, 1 và ma trận bộ lọc 3 x 3 như được hiển thị bên dưới.\n",
    "![](https://miro.medium.com/max/413/1*4yv0yIH0nVhSOv3AkLUIiw.png)\n",
    "- Sau đó, tích chập của ma trận hình ảnh 5 x 5 nhân với ma trận bộ lọc 3 x 3 được gọi là **Feature Map** như hình dưới.\n",
    "![](https://miro.medium.com/max/268/1*MrGSULUtkXc0Ou07QouV8A.gif)"
   ]
  },
  {
   "cell_type": "markdown",
   "metadata": {},
   "source": [
    "- Kết hợp hình ảnh với các bộ lọc khác nhau có thể thực hiện các tác vụ như detect edge, blur và sharp bằng cách áp dụng các bộ lọc(ma trận kernel). Ví dụ dưới đây cho thấy hình ảnh tích chập khác nhau sau khi áp dụng các loại bộ lọc khác nhau (Kernels).\n",
    "![](https://miro.medium.com/max/349/1*uJpkfkm2Lr72mJtRaqoKZg.png)"
   ]
  },
  {
   "cell_type": "markdown",
   "metadata": {},
   "source": [
    "## Strides"
   ]
  },
  {
   "cell_type": "markdown",
   "metadata": {},
   "source": [
    "**Stride là số lượng pixel dịch chuyển trên ma trận đầu vào chúng ta thực hiện phép tích chập**. Khi `strides` là 1 thì chúng ta sẽ di chuyển các bộ lọc thành 1 pixel mỗi lần. Khi strides là 2 thì chúng ta di chuyển các bộ lọc thành 2 pixel cùng một lúc và cứ thế. Hình dưới đây cho thấy tích chập sẽ hoạt động với strides là 2.\n",
    "\n",
    "![](https://miro.medium.com/max/695/1*nGHLq1hx0gt02OK4l8WmRg.png)"
   ]
  },
  {
   "cell_type": "markdown",
   "metadata": {},
   "source": [
    "## Padding(Đệm)"
   ]
  },
  {
   "cell_type": "markdown",
   "metadata": {},
   "source": [
    "Đôi khi bộ lọc không phù hợp hoàn toàn phù hợp với hình ảnh đầu vào. Chúng ta có hai lựa chọn:\n",
    "- Padding hình ảnh với số không (không đệm) để nó phù hợp\n",
    "- Thả phần hình ảnh mà bộ lọc không vừa. Điều này được gọi là phần đệm hợp lệ chỉ giữ phần hợp lệ của hình ảnh."
   ]
  },
  {
   "cell_type": "markdown",
   "metadata": {},
   "source": [
    "## Non Linearity (ReLU) - Hàm phi  tuyến ReLU"
   ]
  },
  {
   "cell_type": "markdown",
   "metadata": {},
   "source": [
    "**ReLU là viết tắt của Rectified Linear Unit, nó là một hàm phi tuyến**. Đầu ra là $f(x) = max(0, x)$. \n",
    "\n",
    "### Tại sao ReLU lại quan trọng ?\n",
    "**Trả lời**: Mục đích của ReLU là tạo ra tính phi tuyến tính trong ConvNet của chúng ta. Vì, dữ liệu trong thế giới thực được mạng CNN học là những giá trị tuyến tính.\n",
    "![](https://miro.medium.com/max/449/1*gcvuKm3nUePXwUOLXfLIMQ.png)\n",
    "\n",
    "Có các hàm phi tuyến khác như tanh hoặc sigmoid cũng có thể được sử dụng thay cho ReLU. Hầu hết các nhà khoa học dữ liệu sử dụng ReLU vì ReLU có hiệu suất tốt hơn hai loại kia.\n",
    "\n",
    "![](data:image/png;base64,iVBORw0KGgoAAAANSUhEUgAAAVcAAACTCAMAAAAN4ao8AAAA/FBMVEX///8AAADd3d36+vrg4ODZ2dnt7e329vanp6f8/Pz4+Pi6urrx8fH///3e3t6CgoLMzMyxsbHo6OiSkpKcnJyJiYnR0dGsrKx3n7/FxcVSUlKpqam5ubnAwMBmZmaZmZlwcHB8fHxHR0eZutZgmMK3z+IrKytbW1t0dHRBiLolJSU6OjpqampVVVVEREQzMzPO3ugVFRUPDw8Abq4AZ6sAb64nJye50eDc6e8AX5ZFi7uIr80Ud7K2zdxQjbctfLOjwdWEo7oscaEATpZslrmCrMuuwc4AYKhehqk7ZooAV5CwwsufqrFYk7fDztSZsMQ/fadxkqoAR3sgYZGw1rAhAAAU+klEQVR4nO1dCXviRpOu1i0hoVuyAHHZBgwYfI6J7Rk7xyT5kt3k+3b//3/ZLgkwYOHRhQdveB8/NgZaNK+qq6qrq6sBDjjggJTQtO/dgxSw1ZaV+IKmaaz8zp3ZioB5eayBOLu4uLu7+xxh9v169RYqnhHwSS/IcPRlbwSD89T53Vee769vrh8fH59iPF58355tQyAEMpf0gnZ3sz+iwHvzTn6+OXueiXIeVcDalVfPic1w/Ql90G7rvrxs0oj+tltUztpO1k9kkp5Ubp+zXmeXYJFX7fjmLvcVRDJ49ZxKpPUnhqRW65H2RhPSpx0gzayfmMCrpp18Sd2+4Zgslalw+zuMIPrjBVm7tkTEKw6h3DpfJJ34gd+q0t9By7EiXgOfM+nFg0iaexP6q0sABEcSd8Ar/Qpq2v5eEQoL2mT7e6aX0Z/aMGvXlkBelevPudu/8PqJTEkFXDK5IqpKTJPYyBsbv9obqVaV9IAhl5dEUMrmVROvT9O2dggHHhmDheaPE0EFVgWLmhkmEq0qGhyOiz6mP83atSWQ14f73M1hyauJInCJQ6dBeJE0iQuUZDkkkfWeoozUOGheUTZtuXReT04grWkwyTga3h0C7IiQPlFM2lvSomKsUsIJ9qc7BYuQy1EhXsWbiyIOypxXG5kjUG2SK+SVEJ3edhIM4qHUm1odYgKM8E19WPDaRF7bWT/xNa+fb8T0X6GN3CnIq0sMYUpYOrTEIfFC0gDStSp0oNVGMCEcT0ZZu7YE5fX5LHdrxJxXh/CqxwOpyQzy2q4Tqm0nXRJb+94I1asB3aEoGJYyVx09VLgo2NmwyaumZjO7gnlOzpHX7hDlgfLKQQ0l1PQINWaTIfKKt75WSF6fimhX5PVqMhrVVHLeQEnsGSNiiKQOQ0qlT4gQvWlIe0hHFh2Erk1MNmrSB4kMB4SynRGv5JVqgfTQcQRNLpHX2hXqqpjX0ZJXOvqR13GkDvKC5WY3Su7W0RXag8Gg3QG+OXFl4M9rwaAhU/81aDJ0kJ/PvwwKZYM+69dqPrADbEKfMvvdZnZfZp1XDU6vM2gBejPbhhPLq0Nck8S8RhrVBzLlJTrEqKD2iREW0QPWcZabnQ2MQxq7uOz6v6gFshgIl+rXroi8gk66nRV59YHpRYaB/qdOyXRQQF6tp7udBVyGaPDLxwav90cZ28tqNEJlOkFQKbX4CGQZYhdeZCH+jzpg+Z16YP+6EXM3/ubFd3PpNV6151s274UMQobZzWYaaNqPxbyBN8DX4Zt3PHxjMrkVa7zObgpEiKyK6eVv/Ra0n553c2EAalB5N4w9KsvcMiV0004/V7DKq3Z/pO1N2HUF2s+7iq7ZdKL1ifq1Jv4jWFtm42Lm2dYar9rz494EXddw8UPhu81X1LoHJsZXQskC1fCUqmFBl7JJeQ3mxEW8+rxlzrWh7HMcOgvFeJ39VmiumA5CjjZ//5LJR0n82CsHujrYEtRdGFlshYBtqywljOtR2xD7gDLyakNfGptxKxe6ZpfeCz0xSv0mlrxq2tnXAt2X1/5sg+DoOa599muORhsYqeAGUHGB87gmlUG/SblTX/Oq8tAV5i6CZUFPQd1qZ55urcjrcREtoC+6Yr/9PiE7r3RmnbwKlwmUVz3i1asxHRzbOBtUqesqUGMVxDOuSF5BWbFeaky4m5tXTSukBfylJxC+PeWzcvB6d1sGryKyE7pwpcIgrIAtT61YcdL5t1OHAIc65ZUJjTY4rIzrMZ7RcMGhDzrZO7CQV+3poYAWWJmyjN98Yw55haOj4rwGn1y+22aaNV7qmFLfbDZBHzWgRl8yOmi22iZ1uHouX+lLg7oBIkZapLE0kFBizrN/4ILXh6dcM0XW7ugD4HD0111Dp2Or/ZazJzvniQtqb0G7vctuNt7CytTHxNElrl1eiX5AMeLHaDCsHNOd+GtSLZDLRWRHTGOggImGQPX6Bp29tKLYeyfCoAxCZjdiubyuYuvoWrUT7RwXjnmVH49ztAU0BSodJHUqpyJIUVzIeaXjG1JdSkYKp0vWjk+03fGqbotlrQh1kOfjkVeNaoF8yrUvgylR5kwcMDVRZRbyakdwiytGGc5Od8jrzhDJ68Vvs3wTWNvgcSShAhoGl0KL3uXxa/3aikKExjo7vqunivFQNcB+TF41+fE5b3MvdrCoP2DxEKDCbye8q4u/QryFbOhBnUqyB0pHSXUrH07gY/KqwdezovPEl1BaPSnhi/JarUoVhk7IFw6spbfMNFeWry+0j8krXJSQjOXMRz+XSBblNQhsKeA9nc8W4NVOH+FDymtVY3eejBV8Qm2B+ZaKzrQyKHKNOq+fPyivcFQokyQNRBmjB5G7ImcKEaOK0j4mr9xFvhnBO4BOAD/fzOjvj8grT7XAfkazqZw+/HaHfft4vLLq7+lTMncOmZURLKuI6uzi9Oj2DIdSlYc95tXiGYaPwTDVKv/Xrz/+8vtPf/zxL49PAlNCaC4zPv8wxx8UP/z0+99VhmE4x+ENJgnVxBz+d0YgGHEoQJmdHh/dP948nn09Pp0pyaKgBtbrxPGdQ/jz4s9ZDJVdKqdg2xSeY5ncq/LlQA48yzD/644Sentze3ZyfHehRv3moJrcouEbORZ3C0G12LphqrgZB/Ftrd9gKqmmFruDrLD//Xh7/XTycHqh4j2Oeq5aSh2Sl/xV15MSX9ghLEZ0DSdDfptv+HkyJsqFwrKbAiDQL1IsTa9siJBlYCvyd1YDCG35axXiPqZhHHDAAQcccMABB2zg4LLsBgEvyxjhnt09H29gXyOcHwKcoXJ0Bnh/83R/so4ve1p/YBdQSp8D8bzMAft0tLutG3sIaTPdKvsO3W+D5eA4Z+LIB0VANuOM5O18wlxgOe06f02HDwj5kkwDtUkuHVBGjT5uMyJNPaE2RTGw3MXthyhEVBr6pM2NSdghnEKIPyYGXJGWS/xyP4W1Hk7+WbyGqAdEo014ltjAkxDIOYikVe6nsNb98z+NVx5ccq4jr07M6xjU0nnlbot7qka02Z18YzesuQ9rZsgrA6QDDcLsklf5r5vi3hvlFUfU2/4Kfp99QJVq1XPSH5KQpWTypILlUFTyjU0xGaFpfz8Vv4pBuj1wLoeUV7dbs8Hse9BpytDod2l3g74KZlMdkdp+CKxnWlAJMUcosEAMBDB4kI2SF8m1X7LuMk+AQWzC1jrTPlVcpo0jqyeRBh1qzRaVBZ9Y9Hm1RppbFlL/P0L7d74s/TUYxCAV0viEW7Y4ZJQhWMEFK5E4xMJKRTZWJtoPPfA+0H4oYVZgEGs6JdawT5XotIM1MoZYfAid7Qbh57xWyH6ogfeB9vOsuJdFedXJJVz2YdIDi1oCnUwomTUiwpiwlFrqjH8MXksLnIo/q2XwWg2pM0D96wGpXRKb6luRfAKOkEs6j6F/hlPCeoR8/5SERKjL7Rn+ckdn0W0xs+L75DE1SkSD6lGBrEgiz/PUm+WooWUbUlSVzuFVQ4bAybPhvHzIm5QJ7XmFRW7F2SpYmebzv4u1/4AQXmVIVeYbM2orqTRhsYDBc/H6A99EWHccP3WZLN9sSVL2Td7p0YlKS3hUamVBjvZbNvQoXTWu3SGoYNExzHZTXUxmqlxCPib3n/8kPc1wxX0icSkWEm7aTtKtalLGpQQDVU3idfnuYultxqQjqWLX0h1gum2/Qvmr1PxwhNU+6MuVhj6QruiDSSoFqTDJGcRfkus6cCJXVO+u7i6fbLw2nzoLyUVfNquBzXvCLN5tZa5wvIYOvcVWLdq5H1IJvRKhcg5wqUJUeLkFkquiSNRSWANRZCWjnpQd+tNfiQ1MrlEwT9NYaS9uGoE558lFc7iNGLM4p1FsL5sXCmlEpScCvU55bbSoqy1Cg9qtHuU1HlNxGVOopfAIOE+0Def1KpamXCcnP5uenyH52XMN3wslDiyzpUKL3nInKuBk0lm4XLfAj5jxfG+hZeeb44O+uaJv6LtDWRJkJ7IY9Ir1ONFVnI97c2DOO1sp5LANGmDi6CeiWLFXeXXiLGuiAKqhWqokZVmAhMVBbbalDomqZFpKPOdpL4Um6IZMOzxV7UgkGwKdKEAjEHieXk1oyEN+Lnpzf4YKyAh7FsHnmvQ/x7MYnpplLhQm82xyuR6/YWBALfLlwCsUfLJtIXR16nQHXJ32kgjgt+kfC3h6WbPrEajgDc1f85HyelFGHRI6tLAb6hhUpzHByqUQD/W6SWmmhncuZjEdsu66XVdHIZwAeynaCzPkBFRfhKIaoj5FdxefVHRXP3d1ZLgHQk3iJAnLnRXpLGs7ILf8IKx7dsuTnBZvtwzHsSMqLSc0HBxVVqHFxNOzsnidIK9TESYMVPxOzOvYoiIgAR8ZIlV0DXE+lZ3LWxcaLnCUKAUdx64c1sGn3gBaYkEZWOq8gMPck2xDXfJEj17YKDkIvcBqzSm7UPDtoYT6LnTQDish8fwe1wzMWt3tw1AHm/ZRMlvtwJvXHvPdtrkw5HN5cz1qohjKq42GzQ5tPeRlA7pUa7h2O1zYq7lA60YHjzuQUfuX0OkEyC92lMtTNOsFJ8dl8CpjYU/8wdqeEA9jDllR482lcXdVWFqCBb+oWqtImx+/IdqUaobr71YWngV9QhxgkbiyF6WXEJazl3qh62hPJdfNWYH9Yk/fmmuzksMBvxLq8n1zuyWuuLoBwZ7Gb17A3sx2t99wOWfinQxEyK79Le25y0luOZhdb9m8d0AhPN9/xLo5+4+T4wOv5UPTri+SD7M6oAi0i+sPWTdnv6EBfHk48Fo6NHi+ET9gvYz9wux0A88PZ7ezgDnwWgx3T2cruL+/Pzl69g3BU/9RWwvKR/LioLf/U5cDDjjggAMOOGC3MC0nOXdSg1xHSr8DHGXLefL7BJ5vVJKI1eAo/Xms74vQ84LE1S0Nvu7NefI85yXHtS9Sn8r83qhYleQua6d7dJ48QGLWlvb0/N7dyILEnLzZzd2+iGuE17xq2nHmvUe8gzAXBQ9DPPnFLJaeth2J58k/fd3Rp+VEgrzOso8oiZCrK9KPjoynGBMFYPLGge2FkCSvX/OdFbM7JPB6kv3W1+eb+msxlwPktfaOvN6lrwwdjiaTbnNp+6R+FHnye9TNcHrlmZXXvN7dKpmdgToJqwyvfi9e1ZvT1K1N0m+PCVl4azqJuGzhEy4pbwfEJq8a+5jjvO56dJq883141bT7o/SSgKcbg4H7y1odc8mrs2NeNXjIU726TgKL41bklX1PXh+yHMdnkgbDNAlP9f+A6O/Fa2S0sluA+nxczbmMOvupV7RvW7DJKx7Bk761iSOrV8H8Vzr634lXDc6O88y0JDLudDou5VXvdNoQkJ40Jp1SOvgaG7yK189ZWpvE48hUifklwjqvu7Jb2vNjrqtUaue1Wq0JOv6ZUPM6IlfFMh3fwPr53PAl25zbpCrAIF1673ngOCqvkT/QwAIvZWquVV41eu8/QD2ydXk9vmUzua4+7tPtEAkur2zSo4+GwyE1ZYSMeqRdXifX5fXoHbbJFcbqOdLaxW8X21bvkuHhCaCyroPi9m0qqC6FboFiN8dllmpf47VAvMV6v0jNKq/i7fN+CsIKr1qBeEvYf7/anKu8nuxNcHADq7wen+XtpLC5R3CXeDmfG55vxf3nNUe8ZQG7WD5+NrzI6+y3vTWzK7yefM197/XcR7Msd0qIpplSlSzPkdYeH/J+bBK4xHT9nHvwXni9u82/7TQ/r9xiX9xYTnv28eLcczw2rkQtEO0ysqXN3Q18vs1iC141uUhdzYhX3g/t1F4Bazb82K8RHAm3xY1T16iYnyMNp+WuFrn0umMDzM272841uZ3zGi275b/5Ea+hpQepv2kIfWuuA6xomyaVllq6psvzue9KjWWPqMiS+S7UVeTbNbqQ1wJGCxZ6wExdFAMx34DKuLHYNlOfLT/nNefKizmpNAae4+tYyMHRgXXPDaHmAt+hV8aCDovQbODrZgs5zbUDecHr2XGRe4+8WlKfTV/KohPaPBLkLDTzQOBTmoj4fO6vecssfwqhchnt455WYExtVdPHzZG4bXSVV9UBtxUir8M8nxLzqj0/FRpSyCsbWEH6bFqv6q2nLshh2t1zkbze5R5fPRWCNsAlpS80z3GwTDFEVPHXeRVZmMQ9zBXvjHlVb4o5guPcibRSiyKT/sBzpLUCy9rI6zji9VwCHZ07HSUS5VWlupUlC3ePJfEO3gLy+stJzk7GUHN9dF6gvJ4dgZyT2J4YyeuViiz2KxK4bNClAwiFdmiBdw4WfRkqkjeBENcXc80lI14vrsUinqDaf9eKY5TXh/zVVaVJ2zuvVdxuU3Zdp9Gv9EeiN+1bUXEfrhnQ78JdeVj2ROpIqCWqueLzXLF4SwTr/F0PRKlGy9qlxwUGkV6NSpN5q7l1nVxbW7DR8VlBR5DbLOS0U3DizekOoi1qe/lw1WO18q17cHmXCtfQX8nx2+4UlFQ3gPtSzBpsg7c49ZVd/QY5l5Mor1+KpzatxAeEOLRVse1VK8+abdrxt+qH8L6TMrP1x2I+4fuAg7vb4tpxhdeFc6+vHQAqy6gqthQQiWp1NUHceNliqkkl/n79nz8ZPqn4314lHHNsGeeYRLxaLcngcNyotsm39cZ6rADrKK4cYWuZuh3XfZLsyJsYv4oPeCqfQNXpzd+JWkv1Eqsafi9YX09KqNIb8Urn0e0G6vxu4M9tKGtTrz8umYS8mi+mlYdmVJHMXpSh24i7sF6V80xzcUQzghVndw9Ptxdb7LNpht8jGzpRJ7HwVylpzsgr1hUciSivo5eCytEp9tGjiNcV+VMG0WTGss1YiPsgr8YJZUE5u328fZzjFnF9/XRyKm85n1t0A+l7nH/3fJSAf/3yvw+qkICMhzVH8jrgwqaHvHaqr7YtsI0rY822jiR3rihUW8IHTmBunMJ+sY7ZTFUi4divuvJWElq+kEirkHECFdstDj0ULP2cMFJZNGMrfqGiqMt7J0aKkU/lf8vitvPkvxOYIKEMpZA8ckTTyLYQ6K6kNGyP9iVU9MwImVXr1o6qveWCEaqNSvqS0fVGNl6ZlQnX9lKcxc0KF1gteb8OlLd4K/XgFo3EEs1vwNlV8uAmFH4PTrp/Rxj7UUT/gAMOOOCAAw444IADPjr+D4n6gFnTgjI1AAAAAElFTkSuQmCC)"
   ]
  },
  {
   "cell_type": "markdown",
   "metadata": {},
   "source": [
    "## Pooling Layer - Lớp tổng hợp"
   ]
  },
  {
   "cell_type": "markdown",
   "metadata": {},
   "source": [
    "Phần lớp gộp sẽ làm giảm số lượng tham số khi hình ảnh quá lớn. Nhóm không gian cũng được gọi là lấy mẫu con hoặc lấy mẫu xuống làm giảm chiều của mỗi bản đồ nhưng vẫn giữ được thông tin quan trọng. Nhóm không gian có thể có nhiều loại khác nhau:\n",
    "\n",
    "![](https://miro.medium.com/max/602/1*SmiydxM5lbTjoKWYPiuzWQ.png)"
   ]
  },
  {
   "cell_type": "markdown",
   "metadata": {},
   "source": [
    "## Fully Connected Layer - Lớp được kết nối đầy đủ"
   ]
  },
  {
   "cell_type": "markdown",
   "metadata": {},
   "source": [
    "Lớp mà chúng ta gọi là lớp FC(Full Connected), chúng ta chuẩn hóa ma trận của chúng ta thành vectơ và đưa nó vào một lớp được kết nối đầy đủ như neural network.\n",
    "![](https://miro.medium.com/max/554/1*Mw6LKUG8AWQhG73H1caT8w.png)"
   ]
  },
  {
   "cell_type": "markdown",
   "metadata": {},
   "source": [
    "Trong sơ đồ trên, **ma trận Feature Map** sẽ được chuyển đổi thành vector (x1, x2, x3). Với các lớp được kết nối đầy đủ, chúng ta đã kết hợp các hàm này lại với nhau để tạo ra một mô hình. Cuối cùng, chúng ta có một hàm kích hoạt như softmax hoặc sigmoid để phân loại các đầu ra như mèo, chó, xe hơi, xe tải, v.v.\n",
    "\n",
    "![](https://miro.medium.com/max/948/1*4GLv7_4BbKXnpc6BRb0Aew.png)"
   ]
  },
  {
   "cell_type": "markdown",
   "metadata": {},
   "source": [
    "## Tóm tắt"
   ]
  },
  {
   "cell_type": "markdown",
   "metadata": {},
   "source": [
    "- Cung cấp hình ảnh đầu vào vào lớp tích chập.\n",
    "- Chọn tham số, áp dụng bộ lọc với strides, padding nếu có yêu cầu. Thực hiện tích chập trên hình ảnh và áp dụng hàm kích hoạt ReLU cho ma trận.\n",
    "- Thực hiện gộp để giảm kích thước.\n",
    "- Thêm càng nhiều lớp chập cho đến khi hài lòng.\n",
    "- Chuẩn hóa đầu ra và nạp vào một lớp được kết nối đầy đủ (Lớp FC)\n",
    "- Xuất lớp bằng cách sử dụng hàm kích hoạt(Hồi quy logistic với hàm chi phí) và phân loại hình ảnh."
   ]
  }
 ],
 "metadata": {
  "kernelspec": {
   "display_name": "Python 3",
   "language": "python",
   "name": "python3"
  },
  "language_info": {
   "codemirror_mode": {
    "name": "ipython",
    "version": 3
   },
   "file_extension": ".py",
   "mimetype": "text/x-python",
   "name": "python",
   "nbconvert_exporter": "python",
   "pygments_lexer": "ipython3",
   "version": "3.7.5"
  },
  "toc": {
   "base_numbering": 1,
   "nav_menu": {},
   "number_sections": false,
   "sideBar": true,
   "skip_h1_title": false,
   "title_cell": "Table of Contents",
   "title_sidebar": "Contents",
   "toc_cell": false,
   "toc_position": {},
   "toc_section_display": true,
   "toc_window_display": false
  }
 },
 "nbformat": 4,
 "nbformat_minor": 2
}
