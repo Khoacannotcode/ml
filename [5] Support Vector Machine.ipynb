{
 "cells": [
  {
   "cell_type": "markdown",
   "metadata": {},
   "source": [
    "# Bài 5. Support Vector Machine"
   ]
  },
  {
   "cell_type": "markdown",
   "metadata": {},
   "source": [
    "Trong phần này chúng ta sẽ tìm hiểu về một thuật toán khá mạnh đó là Support Vector Machine. Nó cùng với Neural Network là những thuật toán được dùng nhiều nhất trong các bài toán liên quan đến Machine Learrning, đặc biệt là trong bài toán phân lớp."
   ]
  },
  {
   "cell_type": "markdown",
   "metadata": {},
   "source": [
    "![](https://upload.wikimedia.org/wikipedia/commons/thumb/f/fe/Kernel_Machine.svg/1200px-Kernel_Machine.svg.png)\n",
    "## Nội dung\n",
    "1. Giới thiệu\n",
    "2. Support Vector Machine là gì?\n",
    "3. Siêu phẳng và Support Vectors\n",
    "4. Large Margin Intuition\n",
    "5. Cost Function and Gradient Updates\n",
    "6. SVM implementation in Python\n",
    "7. Kết luận\n",
    "---"
   ]
  },
  {
   "cell_type": "markdown",
   "metadata": {},
   "source": [
    "## 1. Giới thiệu"
   ]
  },
  {
   "cell_type": "markdown",
   "metadata": {},
   "source": [
    "Hi vọng các bạn đã quen với các thuật toán trong Neural Network. Nếu không, tôi khuyên bạn nên xem chúng trước khi chuyển sang Support Vector Machine. Support Vector Machine là một thuật toán đơn giản khác mà mọi chuyên gia về máy học nên có trong kho vũ khí của mình. Support Vector Machine được nhiều người ưa thích vì nó tạo ra độ chính xác đáng kể với sức mạnh tính toán ít hơn. Support Vector Machine, viết tắt là SVM có thể được sử dụng cho cả tác vụ hồi quy và phân loại. Nhưng, nó được sử dụng rộng rãi trong các mục tiêu phân loại."
   ]
  },
  {
   "cell_type": "markdown",
   "metadata": {},
   "source": [
    "## 2. Support Vector Machine là gì?"
   ]
  },
  {
   "cell_type": "markdown",
   "metadata": {},
   "source": [
    "Mục tiêu của thuật toán Support Vector Machine là tìm một siêu phẳng trong không gian N chiều (N - số lượng features) phân loại rõ ràng các điểm dữ liệu."
   ]
  },
  {
   "cell_type": "markdown",
   "metadata": {},
   "source": [
    "![](https://miro.medium.com/max/300/0*9jEWNXTAao7phK-5.png)"
   ]
  },
  {
   "cell_type": "markdown",
   "metadata": {},
   "source": [
    "![](https://miro.medium.com/max/300/0*0o8xIA4k3gXUDCFU.png)"
   ]
  },
  {
   "cell_type": "markdown",
   "metadata": {},
   "source": [
    "Để phân tách hai lớp dữ liệu, có nhiều siêu phẳng có thể được chọn. Mục tiêu của chúng ta là tìm một mặt phẳng có margin lớn nhất, tức là khoảng cách tối đa giữa các điểm dữ liệu của cả hai lớp. Tối đa hóa khoảng cách margin cho chúng ta một số thuật lợi khi các điểm dữ liệu trong tương lai có thể được phân loại với độ tin cậy cao hơn."
   ]
  },
  {
   "cell_type": "markdown",
   "metadata": {},
   "source": [
    "## 3. Siêu phẳng và Support Vectors"
   ]
  },
  {
   "cell_type": "markdown",
   "metadata": {},
   "source": [
    "![](https://miro.medium.com/max/1418/1*ZpkLQf2FNfzfH4HXeMw4MQ.png)"
   ]
  },
  {
   "cell_type": "markdown",
   "metadata": {},
   "source": [
    "Hyperplanes là ranh giới quyết định giúp phân loại các điểm dữ liệu. Các điểm dữ liệu rơi ở hai bên của siêu phẳng có thể được quy cho các lớp khác nhau. Ngoài ra, số chiều của siêu phẳng phụ thuộc vào số lượng đặc trưng. Nếu số lượng đặc trưng đầu vào là 2, thì siêu phẳng chỉ là một đường thẳng. Nếu số lượng tính đặc trưng đầu vào là 3, thì siêu phẳng trở thành mặt phẳng hai chiều. Nó trở nên khó tưởng tượng khi số lượng đặc trưng vượt quá 3."
   ]
  },
  {
   "cell_type": "markdown",
   "metadata": {},
   "source": [
    "![](https://miro.medium.com/max/755/0*ecA4Ls8kBYSM5nza.jpg)"
   ]
  },
  {
   "cell_type": "markdown",
   "metadata": {},
   "source": [
    "Support Vectors là các điểm dữ liệu gần với siêu phẳng hơn và ảnh hưởng đến vị trí và hướng của siêu phẳng. Sử dụng các Support Vectors này, chúng ta maximize margine của classifier. Xóa các Support Vectors sẽ thay đổi vị trí của siêu phẳng. Đây là những điểm giúp chúng ta xây dựng SVM của chúng ta."
   ]
  },
  {
   "cell_type": "markdown",
   "metadata": {},
   "source": [
    "## 4. Large Margin Intuition"
   ]
  },
  {
   "cell_type": "markdown",
   "metadata": {},
   "source": [
    "Trong hồi quy logistic, chúng ta lấy đầu ra của hàm tuyến tính và chặn giá trị trong phạm vi $[0,1]$ bằng cách sử dụng hàm sigmoid. Nếu giá trị bị chặn lớn hơn giá trị ngưỡng $(0,5)$, chúng ta gán cho nó là nhãn 1, nếu không, chúng ta gán cho nó một nhãn 0. Trong SVM, chúng ta lấy đầu ra của hàm tuyến tính và nếu đầu ra đó lớn hơn 1, chúng ta sẽ xác định nó với một lớp và nếu đầu ra là -1, chúng tôi xác định là với một lớp khác. Vì các giá trị ngưỡng được thay đổi thành 1 và -1 trong SVM, chúng ta có được phạm vi gia cố của các giá trị ($[-1,1]$) đóng vai trò là margine."
   ]
  },
  {
   "cell_type": "markdown",
   "metadata": {},
   "source": [
    "## 5. Hàm mất mát và cập nhật đạo hàm"
   ]
  },
  {
   "cell_type": "markdown",
   "metadata": {},
   "source": [
    "Trong thuật toán SVM, chúng ta đi tìm cách maximize biên giữa các điểm dữ liệu và siêu phẳng. Hàm mất mát giúp tối đa hóa biên độ là mất bản lề.\n",
    "![](https://miro.medium.com/max/1040/1*3xErahGeTFnbDiRuNXjAuA.png)"
   ]
  },
  {
   "cell_type": "markdown",
   "metadata": {},
   "source": [
    "Chi phí là 0 nếu giá trị dự đoán và giá trị thực tế có cùng dấu. Nếu không, chúng ta sẽ tính giá trị mất mát. Chúng ta cũng thêm một regularization parameter vào hàm chi phí. Mục tiêu của regularization parameter là cân bằng giữa việc maximize và mất mát margine. Sau khi thêm regularization parameter, các hàm chi phí trông như dưới đây."
   ]
  },
  {
   "cell_type": "markdown",
   "metadata": {},
   "source": [
    "![](https://miro.medium.com/max/1056/1*GQAd28bK8LKOL2kOOFY-tg.png)"
   ]
  },
  {
   "cell_type": "markdown",
   "metadata": {},
   "source": [
    "Bây giờ chúng ta có hàm mất mát, chúng ta lấy các đạo hàm riêng liên quan đến các trọng số để tìm độ dốc. Sử dụng gradient, chúng ta có thể cập nhật tham số của mô hình.\n",
    "![](https://miro.medium.com/max/1498/1*WUphtYLfTOAoaXQXvImBeA.png)"
   ]
  },
  {
   "cell_type": "markdown",
   "metadata": {},
   "source": [
    "Khi không có phân loại sai, tức là mô hình của chúng tôi dự đoán chính xác lớp điểm dữ liệu của chúng ta, chúng ta chỉ phải cập nhật độ dốc tại regularization parameter."
   ]
  },
  {
   "cell_type": "markdown",
   "metadata": {},
   "source": [
    "![](https://miro.medium.com/max/308/1*-nKEXrWos8Iuf-DWSv_srQ.png)"
   ]
  },
  {
   "cell_type": "markdown",
   "metadata": {},
   "source": [
    "Khi có sự phân loại sai, tức là mô hình của chúng tôi đã mắc lỗi về dự đoán của lớp điểm dữ liệu của chúng ta, chúng ta thêm vào hàm mất mát regularization parameter để thực hiện quá trình cập nhật giá trị tham số cho hình.\n",
    "![](https://miro.medium.com/max/428/1*tnvMhAKaTUCO43diEvtTAQ.png)"
   ]
  },
  {
   "cell_type": "markdown",
   "metadata": {},
   "source": [
    "## 6. Cài đặt thuật toán"
   ]
  },
  {
   "cell_type": "markdown",
   "metadata": {},
   "source": []
  },
  {
   "cell_type": "markdown",
   "metadata": {},
   "source": []
  },
  {
   "cell_type": "markdown",
   "metadata": {},
   "source": []
  },
  {
   "cell_type": "markdown",
   "metadata": {},
   "source": [
    "## 7. Kết luận"
   ]
  },
  {
   "cell_type": "markdown",
   "metadata": {},
   "source": []
  }
 ],
 "metadata": {
  "kernelspec": {
   "display_name": "Python 3",
   "language": "python",
   "name": "python3"
  },
  "language_info": {
   "codemirror_mode": {
    "name": "ipython",
    "version": 3
   },
   "file_extension": ".py",
   "mimetype": "text/x-python",
   "name": "python",
   "nbconvert_exporter": "python",
   "pygments_lexer": "ipython3",
   "version": "3.7.5"
  },
  "latex_envs": {
   "LaTeX_envs_menu_present": true,
   "autoclose": false,
   "autocomplete": true,
   "bibliofile": "biblio.bib",
   "cite_by": "apalike",
   "current_citInitial": 1,
   "eqLabelWithNumbers": true,
   "eqNumInitial": 1,
   "hotkeys": {
    "equation": "Ctrl-E",
    "itemize": "Ctrl-I"
   },
   "labels_anchors": false,
   "latex_user_defs": false,
   "report_style_numbering": false,
   "user_envs_cfg": false
  },
  "toc": {
   "base_numbering": 1,
   "nav_menu": {},
   "number_sections": false,
   "sideBar": true,
   "skip_h1_title": false,
   "title_cell": "Table of Contents",
   "title_sidebar": "Contents",
   "toc_cell": false,
   "toc_position": {},
   "toc_section_display": true,
   "toc_window_display": true
  }
 },
 "nbformat": 4,
 "nbformat_minor": 2
}
