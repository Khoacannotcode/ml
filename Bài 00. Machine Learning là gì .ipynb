{
 "cells": [
  {
   "cell_type": "markdown",
   "metadata": {
    "colab_type": "text",
    "id": "jqBScs4elX0o"
   },
   "source": [
    "# Bài 00. Machine Learning là gì ?"
   ]
  },
  {
   "cell_type": "markdown",
   "metadata": {
    "colab_type": "text",
    "id": "801UCrM8lX0u"
   },
   "source": [
    "**Machine learning (máy học)** được dùng để lấy tri thức từ dữ liệu. Nó là một lĩnh vực nghiên cứu của các lĩnh vực: Statistics(Thống kê), Artificial Intelligence (trí tuệ nhân tạo) và Computer Science(Khoa học máy tính). Các ứng dụng của Machine Learning (Applications) trở nên phổ biến và không còn xa vời như trước, càng tiến dần về tương lai thì ứng dụng của máy học trong cuộc sống hằng ngày phổ rộng và hầu như ở đâu cũng có máy móc thay thế vai trò lao động của con người."
   ]
  },
  {
   "cell_type": "markdown",
   "metadata": {
    "colab_type": "text",
    "id": "VJftaOwWlX0x"
   },
   "source": [
    "Điểm qua một số ứng dụng trong cuộc sống: hệ thống khuyến nghị tự động về thức ăn, quần áo, nhận dạng con người trong một bức hình, trong các trang web Google, Facebook, Amazone, Netflix thì khối lượng AI, Machine learning rất lớn(hầu như tính năng nào cũng có tích hợp AI),\n",
    "Ngòai các ứng dụng trong thương mại, Machine Learling là công cụ trong các nghiên cứu các dữ liệu lớn ngày nay."
   ]
  },
  {
   "cell_type": "markdown",
   "metadata": {
    "colab_type": "text",
    "id": "U7QuqtLIlX0z"
   },
   "source": [
    "## Nội dung:\n",
    "1. **Why Machine Learning ?**\n",
    "2. **Why Python ?**\n",
    "3. **Phân loại hoa lan**\n",
    "4. **Kết luận**\n",
    "----"
   ]
  },
  {
   "cell_type": "markdown",
   "metadata": {
    "colab_type": "text",
    "id": "RyjPMg0IlX02"
   },
   "source": [
    "## 1. Why Machine Learning ?"
   ]
  },
  {
   "cell_type": "markdown",
   "metadata": {
    "colab_type": "text",
    "id": "9tK5LpbDlX04"
   },
   "source": [
    "### Cuộc sống là một chuỗi các bài toán cần ta giải quyết ! :)"
   ]
  },
  {
   "cell_type": "markdown",
   "metadata": {
    "colab_type": "text",
    "id": "aZ4QCeqBlX06"
   },
   "source": [
    "![Complex Prolems](https://sheilapontis.files.wordpress.com/2013/03/106-problemsolving1.jpg)"
   ]
  },
  {
   "cell_type": "markdown",
   "metadata": {
    "colab_type": "text",
    "id": "-6qFSDtglX09"
   },
   "source": [
    "Với nhu cầu của con người ngày nay, từ \"ăn chắc mặc bền\" rồi \"ăn no mặt ấm\" , \"ăn ngon mặt đẹp\" rồi muốn gì được đó, thì tri thức của con người phải đủ lớn, đủ khả năng đáp ứng các bài toán không phải đơn giản như trước. "
   ]
  },
  {
   "cell_type": "markdown",
   "metadata": {
    "colab_type": "text",
    "id": "uJZY240wlX0_"
   },
   "source": [
    "Ngày xưa, người ta tìm cách giải phương trình để tìm nghiệm đúng nhất. Phải qua hàng thế kỉ mơí có các cách giải. Đến ngày nay, ta tìm nghiệm của phương trình bậc 2 hay bậc 3, nếu là con người thì chắc vài phút, nhanh thì vài giây; nếu là máy tính thì bằng một cái click chuột hoặc là một tổ hợp phím nào đó. Thật sự các bài toán trong thế giới thực ngày nay không thể giải bằng một bộ não đơn thuần của con người. Nhưng nếu hợp nhất nhiều bộ não thì sao, làm sao được ? Phải tìm ra một vật chất gì đó thay thế cho việc học có giới hạn của con người, và phải làm sao cho nó gặp phương trình nào cũng giải được."
   ]
  },
  {
   "cell_type": "markdown",
   "metadata": {
    "colab_type": "text",
    "id": "VPw6Oqy-lX1B"
   },
   "source": [
    "Câu trả lời đó là là máy tính. Vì máy tính có tốc độ xử lí nhanh, không bị ảnh hưởng bởi các điều kiện ngoại vi, khả năng lưu trữ rất lớn về dữ liệu. Nhưng vấn đề được đặt ra là làm sao làm cho cái máy học được ? Làm sao làm cho nó có tư duy, cho nó biết phân biệt đúng sai... Thế nên, mấy chục năm trước đây, đã có lĩnh vực mang tên gọi là Artificial Intelligence (Trí tuệ nhân tạo), **this is the research field aiming to how to make machine have the same intelligence human**. Giúp cho cái máy tính, chiếc xe ô tô có thể nhìn như con người (Computer Vision), nghe và viết như con người (Natural Language Processing),...rồi từ việc học nhanh, học nhiều, xử lý nhanh vốn có, ta dùng nó giải quyết bài toán phức tạp, rắc rối mà ta không có khả năng giải quyết bằng sức người. Vấn đề lại được đặt ra, làm sao cho cái máy điều \"phi thường\" (do ta không bao giờ nghĩ rằng nó đạt được như vậy) như vậy, liệu chuyện \"cái máy biết học\" có điên rồ quá không ?    "
   ]
  },
  {
   "cell_type": "markdown",
   "metadata": {
    "colab_type": "text",
    "id": "PBQvo_wXlX1D"
   },
   "source": [
    "![Characteristics of Computer](https://www.freezonal.com/files/2010/10/Characteristics-of-Computer.gif)"
   ]
  },
  {
   "cell_type": "markdown",
   "metadata": {
    "colab_type": "text",
    "id": "09W4__VrlX1G"
   },
   "source": [
    "Để làm được những điều thần thánh như trên, ta phải có một công cụ đủ mạnh để thực hiện điều đó. Không phải là sử dụng máy tính cực mạnh, tốc độ xử lý nhanh là được mà phải làm sao dạy học cho máy tính. Machine Learning chính là công cụ, phương thức để cho máy tính có thể học tập, qua công cụ này ta sẽ dạy cho máy tính cách tiếp nhận tri thức, xử lí vấn đề theo cách nào đó gần giống với con người, nhưng với sức mạnh của máy tính, không bị tác động ảnh hưởng bởi điều kiện ngoại cảnh, cảm xúc, lí trí."
   ]
  },
  {
   "cell_type": "markdown",
   "metadata": {
    "colab_type": "text",
    "id": "QMomuh6ylX1I"
   },
   "source": [
    "Xét về tính liên quan, **Machine Learning là một tập con của trí tuệ nhân tạo (Artificial Intelligence), nhưng cũng đóng vai trò là phương tiện để Trí tuệ nhân tạo đạt được mục tiêu đề ra**. Còn một cách định nghĩa chính xác về mặc ngữ nghĩa thì được biểu diễn như sau:"
   ]
  },
  {
   "cell_type": "markdown",
   "metadata": {
    "colab_type": "text",
    "id": "TlPEQ_DglX1K"
   },
   "source": [
    "![Presentation of Machine Learning](https://i0.wp.com/www.zldoty.com/wp-content/uploads/2017/04/2017-04-06-001-Machine-Learning-Definition-ETP-Framework.png?resize=1003%2C550&fbclid=IwAR0m0TH17okIlcEf3U1i2wfCoRm0JBcr7k2Pv8WGEkVziQmgTlrr2P2KNQY)"
   ]
  },
  {
   "cell_type": "markdown",
   "metadata": {
    "colab_type": "text",
    "id": "WloY7l9klX1M"
   },
   "source": [
    "Đương nhiên Machine  Learnign chỉ là một công cụ, mà đã là công cụ hay một sự vật hiện tượng thì phải có hạn chế. Đừng nghĩ về hạn chế, hãy nghĩ về những gì mà nó có thể làm cho con người."
   ]
  },
  {
   "cell_type": "markdown",
   "metadata": {
    "colab_type": "text",
    "id": "EqgT8rLklX1O"
   },
   "source": [
    "### *Những bài toán mà Machine Learning có thể giải quyết*"
   ]
  },
  {
   "cell_type": "markdown",
   "metadata": {
    "colab_type": "text",
    "id": "ZRrx2bRjlX1R"
   },
   "source": [
    "Những bài toán có thể giải quyết hay nói đúng hơn là các bài toán nào có thể cho máy tính học tập rồi sau này nó sẽ giải quyết bằng chính sức của nó. Có rất nhiều bài toán mà một máy tính hay một hệ thống có thể giải quyết. Và việc học này về cơ bản có hai hình thức là **học có dạy bảo** và học **không dạy bảo** hay thế giới ngày nay gọi là **supervised learning** and **unsupervised learning**. "
   ]
  },
  {
   "cell_type": "markdown",
   "metadata": {
    "colab_type": "text",
    "id": "qKR7nMwblX1T"
   },
   "source": [
    "#### Supervised Learning(Học có giám sát)\n",
    "Nói một cách nôm na là đưa cho một đứa trẻ một tấm hình chứa con mèo, cô giáo nói với nó là có con mèo trong đó, tiếp tục lại đưa cho nó một tấm hình, cô giáo lại bảo là có con mèo trong tấm hình, tiếp tục lần thứ ba nhưng cô giáo khẳng định là không có mèo trong hình,... Quá trình cô giáo dạy em bé cách nhận biết trong hình có con mèo hay không chính là việc learning từ những ví dụ mẫu, dần dần em bé có khả năng nhận biết được trong một bức ảnh lạ lẫm bất kỳ có con mèo hay không(chưa chắc lúc nào bé nhận định cũng đúng nhưng thường thì đúng). Thực sự là như vậy, nhưng theo định nghĩa thì **từ tập training data (dữ liệu huấn luyện) được gán nhãn hãy xây dựng một mô hình có thể dự đoán output mà ta quan tâm sao cho output này thật là giống với điều hiển nhiên**."
   ]
  },
  {
   "cell_type": "markdown",
   "metadata": {
    "colab_type": "text",
    "id": "UDHeLAbXlX1W"
   },
   "source": [
    "#### Unsupervised Learning(Học không giám sát)"
   ]
  },
  {
   "cell_type": "markdown",
   "metadata": {
    "colab_type": "text",
    "id": "SxWWTn_PlX1f"
   },
   "source": [
    "- **Nếu như học mà không ai giám sát(ở đây không phải là quản lí) thì ta phải tự bơi !** Khi đưa cho đứa trẻ một tập hợp rất là nhiều hình nhưng chỉ có đúng là 3 hình dạng là tròn, vuông và tam giác(đừng nói cho đứa trẻ tên gọi của các hình, chỉ nói cho bé là có 3 loại hình). Hỏi rằng bé có tự chia một đống hình đó thành 3 loại hình dạng hay không ? Tương tự như vậy, **từ tập dữ liệu huấn luyện đầu vào (training data input), khác với supervised learning, học không giám sát không có tập nhãn cho các dữ liệu, hãy xây dựng một mô hình để dự đoán, đưa ra thông tin mà ta quan tâm**."
   ]
  },
  {
   "cell_type": "markdown",
   "metadata": {
    "colab_type": "text",
    "id": "kwBsgcfClX1i"
   },
   "source": [
    "Ngoài ra còn các thuật tóan trong Machine  Learning khác:\n",
    "- Học tăng cường\n",
    "- Học bán giám sát\n",
    "- ..."
   ]
  },
  {
   "cell_type": "markdown",
   "metadata": {
    "colab_type": "text",
    "id": "8hFV8S2ulX1k"
   },
   "source": [
    "![Machine Learning Algorithms](https://media.geeksforgeeks.org/wp-content/cdn-uploads/20190522174744/MachineLearning.png)"
   ]
  },
  {
   "cell_type": "markdown",
   "metadata": {
    "colab_type": "text",
    "id": "Bw9_GzQjlX1q"
   },
   "source": [
    "Nghe sơ qua thấy chũng dễ dễ và cũng khó khó. Dễ vì chưa hiểu rõ cái cách cũng như quy trình và khó ở chỗ chưa bao giờ tiếp cận với những điều mình chưa bao giờ nghĩ. Hãy điểm qua một số điều hấp dẫn của Machine Learning đem lại trong thời gian gần đây nào:"
   ]
  },
  {
   "cell_type": "markdown",
   "metadata": {
    "colab_type": "text",
    "id": "2isMuVnXlX1s"
   },
   "source": [
    "- Traffic Alerts (Maps)\n",
    "- Social Media (Facebook)\n",
    "- Transportation and Commuting (Uber)\n",
    "- Products Recommendations\n",
    "- Virtual Personal Assistants\n",
    "- Self Driving Cars\n",
    "- Dynamic Pricing\n",
    "- Google Translate\n",
    "- Online Video Streaming (Netflix)\n",
    "\n",
    "*Có thể tham khảo chi tiết hơn tại [đây](https://www.edureka.co/blog/machine-learning-applications/).*"
   ]
  },
  {
   "cell_type": "markdown",
   "metadata": {
    "colab_type": "text",
    "id": "pTPo8zxhQE2Z"
   },
   "source": [
    "![Applications of Machine Learning](https://i0.wp.com/www.hopetutors.com/wp-content/uploads/2019/06/Machine-Learning-Training.png)"
   ]
  },
  {
   "cell_type": "markdown",
   "metadata": {
    "colab_type": "text",
    "id": "blPJD3zclX1u"
   },
   "source": [
    "**Để áp dụng được Machine Learning vào các bài toán thì phải có nền tảng kiến thức nhân loại, cụ thể ở đây là Toán học và Lập trình. Đem toán vào trong máy tính, lập trình cho máy tính thực hiện thuật toán xây dựng mô hình tử dữ liệu đầu vào.**"
   ]
  },
  {
   "cell_type": "markdown",
   "metadata": {
    "colab_type": "text",
    "id": "ASERyYBXlX1x"
   },
   "source": [
    "Nói về toán học, để biết cách xử dụng  Machine Learning, và hiểu được cách xây dựng Machien Learning model thì phạm vi toán học bao gồm có Đại số tuyến tính(Linear Algebra), Giải tích Ma trận (Matrix Calculus), Xác xuất thống kê(Probability and Statistics Mathematical), Tối ưu (Approximations),... "
   ]
  },
  {
   "cell_type": "markdown",
   "metadata": {
    "colab_type": "text",
    "id": "Oo4to453lX1z"
   },
   "source": [
    "## 2. Why Python ?"
   ]
  },
  {
   "cell_type": "markdown",
   "metadata": {
    "colab_type": "text",
    "id": "Dk-efoNHlX11"
   },
   "source": [
    "### Quá nhiều ngôn ngữ lập trình !"
   ]
  },
  {
   "cell_type": "markdown",
   "metadata": {
    "colab_type": "text",
    "id": "PSDOm5lmlX15"
   },
   "source": [
    "![Histogram of Programming Languages](https://pbs.twimg.com/media/EBbmxOGU4AA_CqL.jpg)"
   ]
  },
  {
   "cell_type": "markdown",
   "metadata": {
    "colab_type": "text",
    "id": "TwLgasyhlX17"
   },
   "source": [
    "Nếu toán học rộng đến như vậy, thì có vẽ lập trình cũng khá là rất rối đấy.  **Lập trình để đưa các mô hình toán học xuất phát từ bài toán thực tế vào máy tính đó là một vấn đề (Cuộc sống là một chuỗi các problems)**. Và phải chọn ngôn ngữ để lập trình. Bạn có thể chọn C/C++, Java, Ruby, Python, ...Nhưng do Python là một ngôn ngữ truyền thống cho việc lập trình về Toán, Machine Learning, xử lý các bài toán phức tạp. Xin nói thêm một chút, Python thì Open Source Code, có cộng đồng lập trình viên sử dụng đông đảo, các ứng đụng viết bằng ngôn ngữ Python rất phổ biến, và hầu như bây giờ là thời kì của Python and its applications."
   ]
  },
  {
   "cell_type": "markdown",
   "metadata": {
    "colab_type": "text",
    "id": "hTX6VFZHlX19"
   },
   "source": [
    "Điểm qua các thư viện hỗ dùng nhiều trong Machine Learning cũng như các lĩnh vực mở rộng:\n",
    "- **Numpy**: Numerical Python - Đây là thư viện hỗ trợ vector nhiều chiều, tính toán số học, biến đổi Furier, ...\n",
    "- **Matplotib**: thư viện phục vụ cho việc visualize dữ liệu.\n",
    "- **Scikit-learn**: nơi tập hợp các thuật toán trong Machine Learning.\n",
    "- **Pandas**: hỗ trợ cho việc phân tích dữ liệu, tính toán khoa học."
   ]
  },
  {
   "cell_type": "markdown",
   "metadata": {
    "colab_type": "text",
    "id": "zIyWpGSClX2A"
   },
   "source": [
    "![Libabries for Data Science](https://lasseschultebraucks.com/assets/pythonStack.jpg)"
   ]
  },
  {
   "cell_type": "markdown",
   "metadata": {
    "colab_type": "text",
    "id": "txdb8SG9lX2C"
   },
   "source": [
    "### Lập trình trên môi trường nào khi làm Machine Leanring "
   ]
  },
  {
   "cell_type": "markdown",
   "metadata": {
    "colab_type": "text",
    "id": "SdY5CEm8lX2I"
   },
   "source": [
    "Chọn được một môi trường để lập trình cho một ngôn ngữ cụ thể có thể rất mất sức. Làm sao chọn môi trường phù hợp với máy mình, lại phù hợp với điều mình làm, balabala,.... Ở đây, theo như thế giới ngày nay thì hầu như người ta sử dụng Jupyter Notebook, Google Colab để học tập cũng như làm việc với Machine Learning, vì các môi trường này lưu lại kết quả sau khi thực thi, cũng như có thể note lại những tâm tư, nguyện vọng, tình cảm, trí tuệ trong lúc học tập. Ngoài ra, còn có các IDE khác, lập trình Python cũng êm: Pycharm, IDLE,..."
   ]
  },
  {
   "cell_type": "markdown",
   "metadata": {
    "colab_type": "text",
    "id": "DU-GSz1IlX2K"
   },
   "source": [
    "### Jupyter Notebook"
   ]
  },
  {
   "cell_type": "markdown",
   "metadata": {
    "colab_type": "text",
    "id": "NdUmPsCjlX2M"
   },
   "source": [
    "![Jupyter Notebook Icon](http://5b0988e595225.cdn.sohucs.com/images/20190815/828ec608c7f64784af516f433b4c0e4b.jpeg)"
   ]
  },
  {
   "cell_type": "markdown",
   "metadata": {
    "colab_type": "text",
    "id": "6imiICmElX2O"
   },
   "source": [
    "**`Jupyter notebook is a very popular and flexible tool which lets us put our code, output of the code and any kind of visualization or plot etc. in the same document.`**"
   ]
  },
  {
   "cell_type": "markdown",
   "metadata": {
    "colab_type": "text",
    "id": "vh7Ew-G2lX2P"
   },
   "source": [
    "Đây là một môi trường dành cho việc lập trình, bên cạnh đó hỗ trợ cho việc ghi chép kết quả và các nội dung diễn giải liên quan đến chương trình, project của bạn. Với môi trường này bạn có thể code ngôn ngữ Python, R, thậm chí là C/C++. Nó rất là thú vị và đáng hứng khởi khi bạn làm việc, bạn có thể ghi lại cảm xúc, suy nghĩ của mình trong lúc code và output của đoạn code mà bạn lập trình sẽ được lưu lại ngay sau bạn run chương trình, dễ dàng cho việc trình bày và xem lại."
   ]
  },
  {
   "cell_type": "markdown",
   "metadata": {
    "colab_type": "text",
    "id": "F3mXdXlolX2Q"
   },
   "source": [
    "Mình đã có làm sẵn một file hướng dẫn cài đặt Jupyter trên Windows và Ubuntu. Hãy dựa theo nó và cài đặt nhé !"
   ]
  },
  {
   "cell_type": "markdown",
   "metadata": {
    "colab_type": "text",
    "id": "rmVWuB-ClX2R"
   },
   "source": [
    "## 3. Phân loại hoa lan"
   ]
  },
  {
   "cell_type": "markdown",
   "metadata": {
    "colab_type": "text",
    "id": "DurSY7OxlX2T"
   },
   "source": [
    "Oke chúng ta đã hiểu Machine Learning là gì ? Theo quan điểm của nhiều người mà tôi tán thành thì nó là Toán học mà ta dạy cho máy tính. "
   ]
  },
  {
   "cell_type": "markdown",
   "metadata": {
    "colab_type": "text",
    "id": "vDSIQ9WulX2U"
   },
   "source": [
    "### *Trăm nghe không bằng một thấy*"
   ]
  },
  {
   "cell_type": "markdown",
   "metadata": {
    "colab_type": "text",
    "id": "lE_6EpWXlX2V"
   },
   "source": [
    "Nói thì lòng vòng, miên man, hãy cùng xem thử nó như thế nào nhỉ. Ở đây chúng ta cùng lướt qua một ứng dụng kinh điển của Machine  Learning, giúp chúng ta xem được cái hình dạng của Machine Learning, và thấy được Machine Learning là cái gì thực sự."
   ]
  },
  {
   "cell_type": "markdown",
   "metadata": {
    "colab_type": "text",
    "id": "sQd6FmJQlX2W"
   },
   "source": [
    "**Đó là bài toán phân loại hoa Iris (hoa lan)**. Giả đinh rằng bạn là người có kiến thức chuyên môn về hoa. Và tôi đưa cho bạn một bức ảnh vè hoa Iris, yêu cầu bạn cho tôi biết hoa này thuộc dạng hoa Iris nào :) ? Đường nhiên bạn trả lời được ngay. Vậy giờ bạn nghĩ xem, nếu là bạn có chuyên môn thì oke bạn phân dạng hoa được, nếu bạn không có chuyên môn thì tôi sẽ đem một bộ dữ liệu toàn là ảnh chụp về Iris mà tôi có ở nhà để chỉ cho bạn từng tấm coi hoa trong đấy thuộc dạng nào. Dần dần bạn sẽ có được một cái gọi là chuyên môn(kinh nghiệm được học tập từ các ví dụ tôi chỉ). Khi đó quăng cho bạn một tấm hình bất kì, bạn sẽ ngay lập tức phản hồi cho tôi hoa này thuộc dạng nào nào :) ."
   ]
  },
  {
   "cell_type": "markdown",
   "metadata": {
    "colab_type": "text",
    "id": "GUMflWjQlX2Y"
   },
   "source": [
    "Oke, Bạn được tôi training, hay nói cách khác bạn học từ những ví dụ mà tôi đã gán nhãn sẵn. Dần dần, bạn trở nên có kinh nghiệm, có chuyên môn và có thể cho ra một output ứng với bức ảnh bất kì về hoa Iris. Tư tưởng như vậy, nhưng hãy nghĩ đến việc đưa nó vào máy tính. Bạn hãy đóng vai trò là tôi, một supervisor, cái máy tính là học viên của bạn, bạn cho nó càng nhiều ví dụ mẫu và chỉ ra nhãn của từng ví dụ. Cuối cùng, cái máy sẽ biết phân loại hoa Iris cho bạn, bạn không cần tốn công nữa, vì bạn đã đem tri thức của bạn dạy lại cho nó và giờ nó sẽ thay thế vai trò của bạn."
   ]
  },
  {
   "cell_type": "markdown",
   "metadata": {
    "colab_type": "text",
    "id": "G0TBTllxlX2Z"
   },
   "source": [
    "![Iris Flower](https://miro.medium.com/max/810/0*Uw37vrrKzeEWahdB)"
   ]
  },
  {
   "cell_type": "markdown",
   "metadata": {
    "colab_type": "text",
    "id": "eUX5LbcKlX3X"
   },
   "source": [
    "**Trên đây là 3 dạng hoa Iris. Nếu bạn muốn biết rõ về hoa Iris chũng như có bao nhiêu loại thực sự hãy tham khảo trên Wikipedia, ở đây ta cho là chỉ có 3 dạng hoa này thôi và mục tiêu của ta là làm sao huấn luyện máy tính nhìn vào một bức ảnh sẽ cho ta biết ngay hoa Iris này thuộc loại nào.**"
   ]
  },
  {
   "cell_type": "markdown",
   "metadata": {
    "colab_type": "text",
    "id": "E0GYQQv8lX3a"
   },
   "source": [
    "*Có thật sự là mình dạy cho máy tính hiểu được ?*"
   ]
  },
  {
   "cell_type": "markdown",
   "metadata": {
    "colab_type": "text",
    "id": "WoLl11sZlX3c"
   },
   "source": [
    "### *Trăm thấy không bằng một sờ*"
   ]
  },
  {
   "cell_type": "markdown",
   "metadata": {
    "colab_type": "text",
    "id": "SaWqVGEqlX3f"
   },
   "source": [
    "Nghe thì tư tưởng và cách tiến hành cũng không khó lắm. Có vẽ sẽ làm được qua lời nói. Nhưng để hiện thực hóa thì phải lập trình vào máy tính. **Đầu tiên là phải có dữ liệu để dạy, sau đó là phải có cách dạy, và cuối cùng là kiêm tra đánh giá coi mình dạy oke chưa**. **Vậy dữ liệu ở đây là gì ? Nó là ảnh, chỉ là ảnh. Hãy đem các ảnh chụp về hoa Iris được chụp để training cho mô hình của chúng ta, nhưng nhớ là mỗi một ảnh phải chỉ rõ là thuộc loại nào nhé. Cách dạy cho nó chính là chọn một thuật toán để training, giống như việc dạy học, phải có một cách gì đó hiệu quả thì học viên tiếp thu mới nhanh và hiệu quả vậy. Việc đánh giá sau khi training chính là đưa cho máy tính một vài bức ảnh, thử xem nó có phân loại đúng hay không ? Dựa vào việc kiểm tra sau khi training ta có thể suy nghĩ lại về cách dạy của ta, cách ta chuẩn bị bài giảng có thực sự tốt hay chưa.** "
   ]
  },
  {
   "cell_type": "markdown",
   "metadata": {
    "colab_type": "text",
    "id": "lFLrC1W1lX3h"
   },
   "source": [
    "*Và sau đây là phần code cho toán bộ lời văn chúng ta đã đọc từ đầu đến giờ. Chỉ vỏn vẹn mười mấy vòng :)*"
   ]
  },
  {
   "cell_type": "markdown",
   "metadata": {
    "colab_type": "text",
    "id": "X3avDkm_lX3i"
   },
   "source": [
    "#### Chuẩn bị công cụ để làm việc"
   ]
  },
  {
   "cell_type": "code",
   "execution_count": 0,
   "metadata": {
    "colab": {},
    "colab_type": "code",
    "id": "R6GNDi28lX3k"
   },
   "outputs": [],
   "source": [
    "import numpy as np\n",
    "import matplotlib.pyplot as plt\n",
    "from sklearn import neighbors, datasets"
   ]
  },
  {
   "cell_type": "markdown",
   "metadata": {
    "colab_type": "text",
    "id": "MJXBOCvplX3t"
   },
   "source": [
    "#### Bước 01. Chuẩn bị dữ liệu"
   ]
  },
  {
   "cell_type": "code",
   "execution_count": 0,
   "metadata": {
    "colab": {},
    "colab_type": "code",
    "id": "VaolgALLlX3v",
    "outputId": "821f3a81-a11d-4fa2-e3e6-5c06d8895bd4"
   },
   "outputs": [
    {
     "name": "stdout",
     "output_type": "stream",
     "text": [
      "Number of classes: 3\n",
      "Number of data points: 150\n"
     ]
    }
   ],
   "source": [
    "iris = datasets.load_iris()\n",
    "iris_X = iris.data\n",
    "iris_y = iris.target\n",
    "print('Number of classes: %d' %len(np.unique(iris_y)))\n",
    "print('Number of data points: %d' %len(iris_y))"
   ]
  },
  {
   "cell_type": "markdown",
   "metadata": {
    "colab_type": "text",
    "id": "P4GFhbuflX31"
   },
   "source": [
    "Đoạn code này có nhiều ý nghĩa nhưng nó đang thực sự làm một việc đó là chuẩn bị bài giảng :). \n",
    "- `iris_X` chính là tập ảnh bạn sắp đem đi training cho máy tính\n",
    "- `iris_y` chính là tập đáp án có sẵn cho mỗi tấm ảnh, hay gọi theo chuyên môn là label của input đầu vào.\n",
    "- Dựa bào output ta thấy có thực sự là 3 loại hoa(3 class) và số lượng ảnh mà ta có là 150 ảnh (datapoints)."
   ]
  },
  {
   "cell_type": "markdown",
   "metadata": {
    "colab_type": "text",
    "id": "EsqdBbUllX32"
   },
   "source": [
    "*Xem thử vài mẫu dự liệu nào, xem sơ qua giáo án của chúng ta nhỉ.*"
   ]
  },
  {
   "cell_type": "code",
   "execution_count": 0,
   "metadata": {
    "colab": {},
    "colab_type": "code",
    "id": "qV1GGxwslX33",
    "outputId": "18b3e278-3ea2-4e4f-cb24-8e4a44ba4406",
    "scrolled": true
   },
   "outputs": [
    {
     "name": "stdout",
     "output_type": "stream",
     "text": [
      "\n",
      "Samples from class 0:\n",
      " [[5.1 3.5 1.4 0.2]\n",
      " [4.9 3.  1.4 0.2]\n",
      " [4.7 3.2 1.3 0.2]\n",
      " [4.6 3.1 1.5 0.2]\n",
      " [5.  3.6 1.4 0.2]]\n",
      "\n",
      "Samples from class 1:\n",
      " [[7.  3.2 4.7 1.4]\n",
      " [6.4 3.2 4.5 1.5]\n",
      " [6.9 3.1 4.9 1.5]\n",
      " [5.5 2.3 4.  1.3]\n",
      " [6.5 2.8 4.6 1.5]]\n",
      "\n",
      "Samples from class 2:\n",
      " [[6.3 3.3 6.  2.5]\n",
      " [5.8 2.7 5.1 1.9]\n",
      " [7.1 3.  5.9 2.1]\n",
      " [6.3 2.9 5.6 1.8]\n",
      " [6.5 3.  5.8 2.2]]\n"
     ]
    }
   ],
   "source": [
    "X0 = iris_X[iris_y == 0,:]\n",
    "print('\\nSamples from class 0:\\n', X0[:5,:])\n",
    "\n",
    "X1 = iris_X[iris_y == 1,:]\n",
    "print('\\nSamples from class 1:\\n', X1[:5,:])\n",
    "\n",
    "X2 = iris_X[iris_y == 2,:]\n",
    "print('\\nSamples from class 2:\\n', X2[:5,:])"
   ]
  },
  {
   "cell_type": "markdown",
   "metadata": {
    "colab_type": "text",
    "id": "lfNSHOThlX37"
   },
   "source": [
    "*Chỗ này không cần quan tâm nhiều lắm, cơ bản mà !*"
   ]
  },
  {
   "cell_type": "markdown",
   "metadata": {
    "colab_type": "text",
    "id": "xl0FGlKUlX38"
   },
   "source": [
    "#### Bước 02. Tách dữ liệu thành hai phần là training data và test data."
   ]
  },
  {
   "cell_type": "markdown",
   "metadata": {
    "colab_type": "text",
    "id": "WvZxBzdjlX39"
   },
   "source": [
    "Ta phải tách dữ liệu ra ở đây vì phải chừa một phần lại để sau khi dạy cho máy rồi, test lại xem cách dạy của mình như nào và dữ liệu mình training cho nó có phù hợp hay không."
   ]
  },
  {
   "cell_type": "code",
   "execution_count": 0,
   "metadata": {
    "colab": {},
    "colab_type": "code",
    "id": "8CQaRK1zlX3-",
    "outputId": "2afb241a-182b-4d13-c666-1ecbe5b12a25"
   },
   "outputs": [
    {
     "name": "stdout",
     "output_type": "stream",
     "text": [
      "Training size: 100\n",
      "Test size    : 50\n"
     ]
    }
   ],
   "source": [
    "from sklearn.model_selection import train_test_split\n",
    "X_train, X_test, y_train, y_test = train_test_split(iris_X, iris_y, test_size=50)\n",
    "\n",
    "print(\"Training size: %d\" %len(y_train))\n",
    "print(\"Test size    : %d\" %len(y_test))"
   ]
  },
  {
   "cell_type": "markdown",
   "metadata": {
    "colab_type": "text",
    "id": "fXVNa7ovlX4E"
   },
   "source": [
    "*Wao.. Như vậy là ta chi tập dữ liệu thành 2 phần: phần training data có 100 ảnh và test data có 50 ảnh. Tức là 100 ảnh sẽ được dùng để làm tài liệu học tập còn 50 ảnh còn lại là thi cuối kì :).*"
   ]
  },
  {
   "cell_type": "markdown",
   "metadata": {
    "colab_type": "text",
    "id": "JLpLYogRlX4F"
   },
   "source": [
    "#### Bước 03. Bắt đầu training nào"
   ]
  },
  {
   "cell_type": "code",
   "execution_count": 0,
   "metadata": {
    "colab": {},
    "colab_type": "code",
    "id": "iy9DpYAxlX4G",
    "outputId": "5ae13fce-09db-4999-c3fd-a0949582fb99"
   },
   "outputs": [
    {
     "data": {
      "text/plain": [
       "KNeighborsClassifier(algorithm='auto', leaf_size=30, metric='minkowski',\n",
       "                     metric_params=None, n_jobs=None, n_neighbors=1, p=2,\n",
       "                     weights='uniform')"
      ]
     },
     "execution_count": 5,
     "metadata": {
      "tags": []
     },
     "output_type": "execute_result"
    }
   ],
   "source": [
    "clf = neighbors.KNeighborsClassifier(n_neighbors = 1, p = 2)\n",
    "clf.fit(X_train, y_train)"
   ]
  },
  {
   "cell_type": "markdown",
   "metadata": {
    "colab_type": "text",
    "id": "HuVhHNOnlX4L"
   },
   "source": [
    "Sau khi đoạn code này thực hiện xong, ta có trong tay một model và model này sẽ được test để đánh giá xem chất lượng như nào."
   ]
  },
  {
   "cell_type": "markdown",
   "metadata": {
    "colab_type": "text",
    "id": "_t6V8ggJlX4M"
   },
   "source": [
    "#### Bước 04. Testing"
   ]
  },
  {
   "cell_type": "markdown",
   "metadata": {
    "colab_type": "text",
    "id": "sGzhVwBklX4N"
   },
   "source": [
    "Quá trình testing như việc bạn chon thử một vài tấm hình, một vài bài tập để kiểm tra xem máy tính mà bạn training từ nảy đến giờ có thực sự học tốt không ?"
   ]
  },
  {
   "cell_type": "code",
   "execution_count": 0,
   "metadata": {
    "colab": {},
    "colab_type": "code",
    "id": "5p6aTU1ulX4O",
    "outputId": "97a09c7a-1bef-49fa-e922-5605c57e8fc3"
   },
   "outputs": [
    {
     "name": "stdout",
     "output_type": "stream",
     "text": [
      "Print results for 20 test data points:\n",
      "Predicted labels:  [0 0 2 2 0 0 2 2 2 1 0 1 1 0 2 0 2 0 2 1]\n",
      "Ground truth    :  [0 0 2 2 0 0 2 2 2 1 0 1 1 0 2 0 2 0 1 2]\n"
     ]
    }
   ],
   "source": [
    "y_pred = clf.predict(X_test)\n",
    "print(\"Print results for 20 test data points:\")\n",
    "print(\"Predicted labels: \", y_pred[20:40])\n",
    "print(\"Ground truth    : \", y_test[20:40])"
   ]
  },
  {
   "cell_type": "markdown",
   "metadata": {
    "colab_type": "text",
    "id": "CelzEnwXlX4R"
   },
   "source": [
    "Bạn không cần hiểu chi tiết sâu bên trong, hãy quan sát 2 hàng giá trị song song nhau. Gần như các phần tử nằm cùng một vị trí gióng nhau. Điều này có nghĩa là sai sót, hay còn gọi là lỗi của trainer rất ít."
   ]
  },
  {
   "cell_type": "markdown",
   "metadata": {
    "colab_type": "text",
    "id": "KQcmTn1plX4U"
   },
   "source": [
    "*Đương nhiên nhìn như vậy vẫn chưa mang tính khách quan cho lắm. Phải có số liệu chứ*"
   ]
  },
  {
   "cell_type": "code",
   "execution_count": 0,
   "metadata": {
    "colab": {},
    "colab_type": "code",
    "id": "4a2x5dMHlX4V",
    "outputId": "696b7c5a-f277-4c77-ac7a-e71995a2cad9"
   },
   "outputs": [
    {
     "name": "stdout",
     "output_type": "stream",
     "text": [
      "Accuracy of 2NN: 96.00 %\n"
     ]
    }
   ],
   "source": [
    "from sklearn.metrics import accuracy_score\n",
    "print(\"Accuracy of 2NN: %.2f %%\" %(100*accuracy_score(y_test, y_pred)))"
   ]
  },
  {
   "cell_type": "markdown",
   "metadata": {
    "colab_type": "text",
    "id": "wSfEql92lX4Y"
   },
   "source": [
    "Waoo... Chính xác đến 96%. Thực sự bạn dạy học rất tốt đáy nhỉ."
   ]
  },
  {
   "cell_type": "markdown",
   "metadata": {
    "colab_type": "text",
    "id": "ZECWBR1vlX4Z"
   },
   "source": [
    "**Tuy là bạn không thấy được nó diễn ra như thế nào bằng mắt thường. Nhưng thực sự bạn đã tạo ra được một mô hình có thể phân loại ảnh hoa Iris bất kì thuôc vào 1 trong 3 lớp hoa. Tuy có vẽ không có ý nghĩa gì cho lắ nhưng biết đâu dựa vào đây bạn có thể tạo ra các mô hình có thể phân loại của riêng bạn chẳng hạn vậy :)**"
   ]
  },
  {
   "cell_type": "markdown",
   "metadata": {
    "colab_type": "text",
    "id": "azpZKUhgQE3R"
   },
   "source": [
    "#### Cùng xem lại quá trình chúng ta đi giải quyết một bài toán trong machine learning nào:"
   ]
  },
  {
   "cell_type": "markdown",
   "metadata": {
    "colab_type": "text",
    "id": "MuU77vJqQE3S"
   },
   "source": [
    "![Machine Learning Process](https://onclick360.com/wp-content/uploads/2018/08/ml-process.jpg)"
   ]
  },
  {
   "cell_type": "markdown",
   "metadata": {
    "colab_type": "text",
    "id": "A_Z9bryilX4a"
   },
   "source": [
    "## 4. Kết luận"
   ]
  },
  {
   "cell_type": "markdown",
   "metadata": {
    "colab_type": "text",
    "id": "ZC6BZofblX4c"
   },
   "source": [
    "**Từ đầu tới giờ nói gì nhỉ ??**\n",
    "- Chúng ta bắt đầu với một giới thiệu ngắn gọn về học máy và các ứng dụng của nó, sau đó thảo luận về sự khác biệt giữa học tập có giám sát và không giám sát và đưa ra một cái nhìn tổng quan về các công cụ mà ta làm việc trong Machine learning. \n",
    "- Sau đó, chúng ta xây dựng nhiệm vụ dự đoán loài Iris mà một loài hoa cụ thể thuộc về bằng cách sử dụng các phép đo vật lý của hoa. Chúng ta đã sử dụng một bộ dữ liệu các phép đo được chú thích bởi một chuyên gia với các loài chính xác để xây dựng mô hình của chúng ta, làm cho việc này trở thành một nhiệm vụ học tập có giám sát.\n",
    "Thực sự Machine  Learning rất lý thú, nó có giúp chúng ta nhiều trong việc nặng nhọc về khối lượng tính toán, độ phức tạp. Nó đem lại tri thức cho bạn trong một khối dữ liệu lớn bạn có, với tri thức đó bạn có thể làm những việc quan trọng và có ý nghĩa. \n",
    "\n",
    "`Chào mừng bạn đến với Machine Learning.`"
   ]
  }
 ],
 "metadata": {
  "colab": {
   "collapsed_sections": [
    "qKR7nMwblX1T",
    "UDHeLAbXlX1W",
    "X3avDkm_lX3i",
    "MJXBOCvplX3t",
    "xl0FGlKUlX38",
    "JLpLYogRlX4F",
    "_t6V8ggJlX4M",
    "azpZKUhgQE3R"
   ],
   "name": "Chapter 01. Introduction.ipynb",
   "provenance": []
  },
  "kernelspec": {
   "display_name": "Python 3",
   "language": "python",
   "name": "python3"
  },
  "language_info": {
   "codemirror_mode": {
    "name": "ipython",
    "version": 3
   },
   "file_extension": ".py",
   "mimetype": "text/x-python",
   "name": "python",
   "nbconvert_exporter": "python",
   "pygments_lexer": "ipython3",
   "version": "3.7.5"
  },
  "latex_envs": {
   "LaTeX_envs_menu_present": true,
   "autoclose": false,
   "autocomplete": true,
   "bibliofile": "biblio.bib",
   "cite_by": "apalike",
   "current_citInitial": 1,
   "eqLabelWithNumbers": true,
   "eqNumInitial": 1,
   "hotkeys": {
    "equation": "Ctrl-E",
    "itemize": "Ctrl-I"
   },
   "labels_anchors": false,
   "latex_user_defs": false,
   "report_style_numbering": false,
   "user_envs_cfg": false
  },
  "toc": {
   "base_numbering": 1,
   "nav_menu": {},
   "number_sections": false,
   "sideBar": true,
   "skip_h1_title": true,
   "title_cell": "Table of Contents",
   "title_sidebar": "Contents",
   "toc_cell": false,
   "toc_position": {},
   "toc_section_display": true,
   "toc_window_display": true
  }
 },
 "nbformat": 4,
 "nbformat_minor": 1
}
