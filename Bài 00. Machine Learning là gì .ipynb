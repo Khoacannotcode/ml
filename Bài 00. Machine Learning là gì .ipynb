{
 "cells": [
  {
   "cell_type": "markdown",
   "metadata": {
    "colab_type": "text",
    "id": "jqBScs4elX0o"
   },
   "source": [
    "# Bài 00. Machine Learning là gì ?"
   ]
  },
  {
   "cell_type": "markdown",
   "metadata": {
    "colab_type": "text",
    "id": "801UCrM8lX0u"
   },
   "source": [
    "**Machine learning (máy học)** được dùng để lấy tri thức từ dữ liệu. Một cách hiểu nôm na là từ dữ liệu đầu vào, máy tính được huấn luyện để tích lũy tri thức dần, đến lúc nào đấy có khả năng đưa ra các phản hồi chính xác hoặc gần chính xác với môi trường xung quanh.\n",
    "\n",
    "![What is Machine Learning](images/bai00/mlcartoon.png)"
   ]
  },
  {
   "cell_type": "markdown",
   "metadata": {},
   "source": [
    "Thuộc về của các lĩnh vực: Statistics(Thống kê), Artificial Intelligence (trí tuệ nhân tạo) và Computer Science(Khoa học máy tính). Các ứng dụng của Machine Learning (Applications) trở nên phổ biến và không còn xa vời như trước, càng tiến dần về tương lai thì ứng dụng của máy học trong cuộc sống hằng ngày phổ rộng và hầu như ở đâu cũng có máy móc thay thế vai trò lao động của con người.\n",
    "\n",
    "![The fields of ML](images/bai00/fieldsofml.png)"
   ]
  },
  {
   "cell_type": "markdown",
   "metadata": {
    "colab_type": "text",
    "id": "VJftaOwWlX0x"
   },
   "source": [
    "Điểm qua một số ứng dụng trong cuộc sống: hệ thống khuyến nghị tự động về thức ăn, quần áo, nhận dạng con người trong một bức hình, trong các trang web Google, Facebook, Amazone, Netflix thì khối lượng AI, Machine learning rất lớn(hầu như tính năng nào cũng có tích hợp AI),\n",
    "Ngòai các ứng dụng trong thương mại, Machine Learling là công cụ trong các nghiên cứu các dữ liệu lớn ngày nay.\n",
    "\n",
    "![Machine Learning in Websites](images/bai00/mlincompanies.png)"
   ]
  },
  {
   "cell_type": "markdown",
   "metadata": {},
   "source": [
    "Trong bài mở đầu này chúng ta sẽ tìm hiểu sơ lược về Machine Learning, cụ thể về lịch sử của machine learning, tại sao machine learning là đang là xu hướng được quan tâm trong sự phát triển của công nghệ. Ngoài ra cũng bàn về tổng quan machine learning gồm những phần nào và cách thức học tập Machine Learning."
   ]
  },
  {
   "cell_type": "markdown",
   "metadata": {
    "colab_type": "text",
    "id": "U7QuqtLIlX0z"
   },
   "source": [
    "## Nội dung:\n",
    "1. **Why Machine Learning ?**\n",
    "2. **Why Python ?**\n",
    "3. **Phân loại hoa lan**\n",
    "4. **Kết luận**\n",
    "----"
   ]
  },
  {
   "cell_type": "markdown",
   "metadata": {
    "colab_type": "text",
    "id": "RyjPMg0IlX02"
   },
   "source": [
    "## 1. Why Machine Learning ?"
   ]
  },
  {
   "cell_type": "markdown",
   "metadata": {
    "colab_type": "text",
    "id": "9tK5LpbDlX04"
   },
   "source": [
    "### Cuộc sống là một chuỗi các bài toán cần ta giải quyết ! :)"
   ]
  },
  {
   "cell_type": "markdown",
   "metadata": {
    "colab_type": "text",
    "id": "aZ4QCeqBlX06"
   },
   "source": [
    "![Complex Prolems](https://sheilapontis.files.wordpress.com/2013/03/106-problemsolving1.jpg)"
   ]
  },
  {
   "cell_type": "markdown",
   "metadata": {
    "colab_type": "text",
    "id": "-6qFSDtglX09"
   },
   "source": [
    "Với nhu cầu của con người ngày nay, từ \"ăn chắc mặc bền\" rồi \"ăn no mặt ấm\" , \"ăn ngon mặt đẹp\" rồi muốn gì được đó, thì tri thức của con người phải đủ lớn, đủ khả năng đáp ứng các bài toán không phải đơn giản như trước. "
   ]
  },
  {
   "cell_type": "markdown",
   "metadata": {
    "colab_type": "text",
    "id": "uJZY240wlX0_"
   },
   "source": [
    "Ngày xưa, người ta tìm cách giải phương trình để tìm nghiệm đúng nhất. Phải qua hàng thế kỉ mơí có các cách giải. Đến ngày nay, ta tìm nghiệm của phương trình bậc 2 hay bậc 3, nếu là con người thì chắc vài phút, nhanh thì vài giây; nếu là máy tính thì bằng một cái click chuột hoặc là một tổ hợp phím nào đó. Thật sự các bài toán trong thế giới thực ngày nay không thể giải bằng một bộ não đơn thuần của con người. Nhưng nếu hợp nhất nhiều bộ não thì sao, làm sao được ? Phải tìm ra một vật chất gì đó thay thế cho việc học có giới hạn của con người, và phải làm sao cho nó gặp phương trình nào cũng giải được."
   ]
  },
  {
   "cell_type": "markdown",
   "metadata": {
    "colab_type": "text",
    "id": "VPw6Oqy-lX1B"
   },
   "source": [
    "Câu trả lời đó là là máy tính. Vì máy tính có tốc độ xử lí nhanh, không bị ảnh hưởng bởi các điều kiện ngoại vi, khả năng lưu trữ rất lớn về dữ liệu. Nhưng vấn đề được đặt ra là làm sao làm cho cái máy học được ? Làm sao làm cho nó có tư duy, cho nó biết phân biệt đúng sai... Thế nên, mấy chục năm trước đây, đã có lĩnh vực mang tên gọi là Artificial Intelligence (Trí tuệ nhân tạo), **this is the research field aiming to how to make machine have the same intelligence human**. Giúp cho cái máy tính, chiếc xe ô tô có thể nhìn như con người (Computer Vision), nghe và viết như con người (Natural Language Processing),...rồi từ việc học nhanh, học nhiều, xử lý nhanh vốn có, ta dùng nó giải quyết bài toán phức tạp, rắc rối mà ta không có khả năng giải quyết bằng sức người. Vấn đề lại được đặt ra, làm sao cho cái máy điều \"phi thường\" (do ta không bao giờ nghĩ rằng nó đạt được như vậy) như vậy, liệu chuyện \"cái máy biết học\" có điên rồ quá không ?    "
   ]
  },
  {
   "cell_type": "markdown",
   "metadata": {
    "colab_type": "text",
    "id": "PBQvo_wXlX1D"
   },
   "source": [
    "![Characteristics of Computer](https://www.freezonal.com/files/2010/10/Characteristics-of-Computer.gif)"
   ]
  },
  {
   "cell_type": "markdown",
   "metadata": {
    "colab_type": "text",
    "id": "09W4__VrlX1G"
   },
   "source": [
    "Để làm được những điều thần thánh như trên, ta phải có một công cụ đủ mạnh để thực hiện điều đó. Không phải là sử dụng máy tính cực mạnh, tốc độ xử lý nhanh là được mà phải làm sao dạy học cho máy tính. Machine Learning chính là công cụ, phương thức để cho máy tính có thể học tập, qua công cụ này ta sẽ dạy cho máy tính cách tiếp nhận tri thức, xử lí vấn đề theo cách nào đó gần giống với con người, nhưng với sức mạnh của máy tính, không bị tác động ảnh hưởng bởi điều kiện ngoại cảnh, cảm xúc, lí trí.\n",
    "\n",
    "Đương nhiên Machine  Learnign chỉ là một công cụ, mà đã là công cụ hay một sự vật hiện tượng thì phải có hạn chế. Đừng nghĩ về hạn chế, hãy nghĩ về những gì mà nó có thể làm cho con người."
   ]
  },
  {
   "cell_type": "markdown",
   "metadata": {
    "colab_type": "text",
    "id": "EqgT8rLklX1O"
   },
   "source": [
    "### *Những bài toán mà Machine Learning có thể giải quyết*"
   ]
  },
  {
   "cell_type": "markdown",
   "metadata": {},
   "source": [
    "![Machine Learning Algorithms](images/bai00/ml_types2.png)"
   ]
  },
  {
   "cell_type": "markdown",
   "metadata": {
    "colab_type": "text",
    "id": "ZRrx2bRjlX1R"
   },
   "source": [
    "Những bài toán có thể giải quyết hay nói đúng hơn là các bài toán nào có thể cho máy tính học tập rồi sau này nó sẽ giải quyết bằng chính sức của nó. Có rất nhiều bài toán mà một máy tính hay một hệ thống có thể giải quyết. Và việc học này về cơ bản có hai hình thức là **học có dạy bảo** và học **không dạy bảo** hay thế giới ngày nay gọi là **supervised learning** and **unsupervised learning**. \n",
    "\n",
    "![Supervised Learning and Unsupervised Learning](images/bai00/superandunsuper.png)"
   ]
  },
  {
   "cell_type": "markdown",
   "metadata": {
    "colab_type": "text",
    "id": "qKR7nMwblX1T"
   },
   "source": [
    "#### Supervised Learning(Học có giám sát)\n",
    "Nói một cách nôm na là đưa cho một đứa trẻ một tấm hình chứa con mèo, cô giáo nói với nó là có con mèo trong đó, tiếp tục lại đưa cho nó một tấm hình, cô giáo lại bảo là có con mèo trong tấm hình, tiếp tục lần thứ ba nhưng cô giáo khẳng định là không có mèo trong hình,... Quá trình cô giáo dạy em bé cách nhận biết trong hình có con mèo hay không chính là việc learning từ những ví dụ mẫu, dần dần em bé có khả năng nhận biết được trong một bức ảnh lạ lẫm bất kỳ có con mèo hay không(chưa chắc lúc nào bé nhận định cũng đúng nhưng thường thì đúng). Thực sự là như vậy, nhưng theo định nghĩa thì **từ tập training data (dữ liệu huấn luyện) được gán nhãn hãy xây dựng một mô hình có thể dự đoán output mà ta quan tâm sao cho output này thật là giống với điều hiển nhiên**."
   ]
  },
  {
   "cell_type": "markdown",
   "metadata": {
    "colab_type": "text",
    "id": "UDHeLAbXlX1W"
   },
   "source": [
    "#### Unsupervised Learning(Học không giám sát)"
   ]
  },
  {
   "cell_type": "markdown",
   "metadata": {
    "colab_type": "text",
    "id": "SxWWTn_PlX1f"
   },
   "source": [
    "- **Nếu như học mà không ai giám sát(ở đây không phải là quản lí) thì ta phải tự bơi !** Khi đưa cho đứa trẻ một tập hợp rất là nhiều hình nhưng chỉ có đúng là 3 hình dạng là tròn, vuông và tam giác(đừng nói cho đứa trẻ tên gọi của các hình, chỉ nói cho bé là có 3 loại hình). Hỏi rằng bé có tự chia một đống hình đó thành 3 loại hình dạng hay không ? Tương tự như vậy, **từ tập dữ liệu huấn luyện đầu vào (training data input), khác với supervised learning, học không giám sát không có tập nhãn cho các dữ liệu, hãy xây dựng một mô hình để dự đoán, đưa ra thông tin mà ta quan tâm**."
   ]
  },
  {
   "cell_type": "markdown",
   "metadata": {
    "colab_type": "text",
    "id": "kwBsgcfClX1i"
   },
   "source": [
    "Ngoài ra còn các thuật tóan trong Machine  Learning khác:\n",
    "- Học tăng cường\n",
    "\n",
    "![Example of Reinforcement learning](images/bai00/reinforcementlearning.png)\n",
    "\n",
    "- Học bán giám sát\n",
    "\n",
    "![Example of Semisupervised Learning](images/bai00/semisuper.png)\n"
   ]
  },
  {
   "cell_type": "markdown",
   "metadata": {
    "colab_type": "text",
    "id": "8hFV8S2ulX1k"
   },
   "source": []
  },
  {
   "cell_type": "markdown",
   "metadata": {
    "colab_type": "text",
    "id": "Bw9_GzQjlX1q"
   },
   "source": [
    "Nghe sơ qua thấy chũng dễ dễ và cũng khó khó. Dễ vì chưa hiểu rõ cái cách cũng như quy trình và khó ở chỗ chưa bao giờ tiếp cận với những điều mình chưa bao giờ nghĩ. Hãy điểm qua một số điều hấp dẫn của Machine Learning đem lại trong thời gian gần đây nào:"
   ]
  },
  {
   "cell_type": "markdown",
   "metadata": {
    "colab_type": "text",
    "id": "2isMuVnXlX1s"
   },
   "source": [
    "- Traffic Alerts (Maps)\n",
    "- Social Media (Facebook)\n",
    "- Transportation and Commuting (Uber)\n",
    "- Products Recommendations\n",
    "- Virtual Personal Assistants\n",
    "- Self Driving Cars\n",
    "- Dynamic Pricing\n",
    "- Google Translate\n",
    "- Online Video Streaming (Netflix)\n",
    "\n",
    "*Có thể tham khảo chi tiết hơn tại [đây](https://www.edureka.co/blog/machine-learning-applications/).*"
   ]
  },
  {
   "cell_type": "markdown",
   "metadata": {
    "colab_type": "text",
    "id": "pTPo8zxhQE2Z"
   },
   "source": [
    "![Applications of Machine Learning](images/bai00/appofml.png)"
   ]
  },
  {
   "cell_type": "markdown",
   "metadata": {},
   "source": [
    "## 2. Lịch sử hình thành và phát triển của ML"
   ]
  },
  {
   "cell_type": "markdown",
   "metadata": {},
   "source": [
    "Ý tưởng về những thứ \"giống\" với việc làm cho máy móc thông minh đã xuất hiện vào khoảng thế kỉ $XVII$, khi mà [Blaise Pascal](https://www.biography.com/scholar/blaise-pascal) phát minh ra cái máy được xem là cái máy tính đầu tiên, đặt nền móng cho lĩnh vực tin học, lập trình, với mục đích giúp tiết kiệm sức lực con người, mọi tính toán phức tạp cứ để cho con người thực hiện.\n",
    "\n",
    "![Pascal and his calculator](images/bai00/firstcal.png)"
   ]
  },
  {
   "cell_type": "markdown",
   "metadata": {},
   "source": [
    "Tuy nhiên, mãi đến những năm 40 của thế kỉ $XIX$, chúng ta mới có thể thực sự đem lý thuyết của machine learning ra ngoài thực tiễn. Trong năm 1943, nhà tâm-sinh học [Warren McCUlloch](https://en.wikipedia.org/wiki/Warren_Sturgis_McCulloch) và nhà toán học [Walter Pitts](http://web.csulb.edu/~cwallis/artificialn/walter_pitts.html) viết một bài báo về cách mà những neuron thần kinh trong não người làm việc. Họ đã mô tả lại việc mạng neuron trong não người hoạt động, sau đó thiết kế một board mạch điện tử để tạo ra mô hình nhân tạo.\n",
    "\n",
    "![Neuron brain](images/bai00/neuronbrain.png)"
   ]
  },
  {
   "cell_type": "markdown",
   "metadata": {},
   "source": [
    "Tiếp đến trong năm 1952, Athur Sumel - người tiên phong trong lĩnh vực Machine Learning đã tạo ra một chương trình giúp máy tính IBM có khả năng chơi cờ đam(tiếng anh gọi là checker) tốt hơn, đánh dấu bước tiến mạnh mẽ của Trí tuệ Nhân tạo.\n",
    "\n",
    "![Sumel and checkrs](images/bai00/sumelandcheckers.png)"
   ]
  },
  {
   "cell_type": "markdown",
   "metadata": {},
   "source": [
    "Machine Learning ngày càng phát triển, các thuật toán, phương pháp được đề xuất và đặt được kết quả ngày càng quan trong những bài toán thực tế như nhận diện khuôn mặt, phân loại chữ viết tay, các hệ thống hỏi đáp thông minh,...\n",
    "\n",
    "Đến năm 2006, cha đẻ của Deep Learning - Geoffrey Hinton công bố các nghiên cứu về mạng neuron nhân tạo, mở màng kỉ nguyên ngự trị của Deep Learning.\n",
    "\n",
    "![Hinton is goldfather of deep learning](images/bai00/goldfather.png)"
   ]
  },
  {
   "cell_type": "markdown",
   "metadata": {},
   "source": [
    "Từ đó, khoa học về trí tuệ nhân tạo không còn xa vời với nhận loại, hàng loạt ứng dụng thực tế do ngành khoa học Trí tuệ nhân tạo hữu ích cho con người: robot thông minh, camera cảnh báo, trợ lý ảo thông minh,... Tất cả là sản phẩm của Machine Learning, Deep Learning tạo nên.\n",
    "\n",
    "![Application of Deep Learning](images/bai00/appdl.png)"
   ]
  },
  {
   "cell_type": "markdown",
   "metadata": {},
   "source": [
    "Vì vậy Machine Learning là thành tựu của nhân loại, với đặc điểm dùng sức của máy móc, không tốn thời gian, sức khỏe con người nên mọi thứ trở nên dễ dàng hơn.\n",
    "\n",
    "**-> Học Machine Learning là điều nên làm.**"
   ]
  },
  {
   "cell_type": "markdown",
   "metadata": {
    "colab_type": "text",
    "id": "Oo4to453lX1z"
   },
   "source": [
    "## 3. Học Machine Learning như thế nào ?"
   ]
  },
  {
   "cell_type": "markdown",
   "metadata": {},
   "source": [
    "Machine Learning không chỉ học với code mà thực chất nó là việc đem những ý tưởng toán học vào trong lập trình vì vậy Machine Learning có thể xem như thể hiện thực sự của toán học trong thực tế. Có một điều rất hay mà mình thích đó là Toán mà chúng ta học rồi sẽ có một ngày bạn sẽ thấy nó thực sự có tính ứng dụng, chỉ vì chúng ta chưa xem đến tận cùng của nó mà thôi.\n",
    "\n",
    "![What things i learn at Machine Learning ?](images/bai00/howilearnml.png)"
   ]
  },
  {
   "cell_type": "markdown",
   "metadata": {},
   "source": [
    "### Học toán"
   ]
  },
  {
   "cell_type": "markdown",
   "metadata": {},
   "source": [
    "Machine Learning áp dụng các thuật toán để xây dựng các mô hình có khả năng `\"nhận thức\"`. Các ý tưởng, giải thuật trong Machine Learning được ánh xạ từ toán học vi vậy Toán học là nên tảng căn bản, thiết yếu không thể thiếu đối với người học Machine Learning.\n",
    "\n",
    "![Math in real life](images/bai00/stillwait.png)"
   ]
  },
  {
   "cell_type": "markdown",
   "metadata": {},
   "source": [
    "Các lĩnh vực toán được áp dụng trong Machine Learning đó là Giải tích, là Đại số tuyến tính, là Xác suất thống kê, Tối ưu,... Vì vậy đòi hỏi người học phải biết rộng về các lĩnh vực toán.\n",
    "\n",
    "![Math in Machine Learning](images/bai00/mathinml.png)"
   ]
  },
  {
   "cell_type": "markdown",
   "metadata": {},
   "source": [
    "#### Đại số tuyến tính"
   ]
  },
  {
   "cell_type": "markdown",
   "metadata": {},
   "source": []
  },
  {
   "cell_type": "markdown",
   "metadata": {},
   "source": [
    "#### Giải tích toán học"
   ]
  },
  {
   "cell_type": "markdown",
   "metadata": {},
   "source": []
  },
  {
   "cell_type": "markdown",
   "metadata": {},
   "source": [
    "#### Xác suất thống kê"
   ]
  },
  {
   "cell_type": "markdown",
   "metadata": {},
   "source": []
  },
  {
   "cell_type": "markdown",
   "metadata": {},
   "source": [
    "#### Tối ưu"
   ]
  },
  {
   "cell_type": "markdown",
   "metadata": {},
   "source": []
  },
  {
   "cell_type": "markdown",
   "metadata": {},
   "source": [
    "#### Toán học không khó\n",
    "\n",
    "![Toán học không khó](images/bai00/mathinmlcartoon.png)"
   ]
  },
  {
   "cell_type": "markdown",
   "metadata": {
    "colab_type": "text",
    "id": "Dk-efoNHlX11"
   },
   "source": [
    "### Kiến thức về lập trình"
   ]
  },
  {
   "cell_type": "markdown",
   "metadata": {},
   "source": [
    "#### Chọn ngôn ngữ lập trình"
   ]
  },
  {
   "cell_type": "markdown",
   "metadata": {
    "colab_type": "text",
    "id": "PSDOm5lmlX15"
   },
   "source": [
    "![Histogram of Programming Languages](images/bai00/trendpython.png)"
   ]
  },
  {
   "cell_type": "markdown",
   "metadata": {
    "colab_type": "text",
    "id": "TwLgasyhlX17"
   },
   "source": [
    "Nếu toán học rộng đến như vậy, thì có vẽ lập trình cũng khá là rất rối đấy.\n",
    "\n",
    "**Lập trình để đưa các mô hình toán học xuất phát từ bài toán thực tế vào máy tính đó là một vấn đề (Cuộc sống là một chuỗi các problems)**. Và phải chọn ngôn ngữ để lập trình. Bạn có thể chọn C/C++, Java, Ruby, Python, ... Nhưng Python là ngôn ngữ được cộng đồng sử dụng nhiều trong Machine Learning.\n",
    "\n",
    "Tham khảo thêm: [Why is Python the Best-Suited Programming Language for Machine Learning?](https://www.geeksforgeeks.org/why-is-python-the-best-suited-programming-language-for-machine-learning/)"
   ]
  },
  {
   "cell_type": "markdown",
   "metadata": {
    "colab_type": "text",
    "id": "txdb8SG9lX2C"
   },
   "source": [
    "#### Môi trường lập trình Python"
   ]
  },
  {
   "cell_type": "markdown",
   "metadata": {
    "colab_type": "text",
    "id": "SdY5CEm8lX2I"
   },
   "source": [
    "Có rất nhiều môi trường lập trình ngôn ngữ Python như: [Pycharm](https://www.jetbrains.com/pycharm/), [Anaconda](https://www.anaconda.com/), [Google Colab](https://colab.research.google.com/notebooks), [Sublime Text](https://www.sublimetext.com/), [Wing](https://wingware.com/), [Eric](https://eric-ide.python-projects.org/),... tùy vào mục đích và sở thích, chúng ta lựa chọn môi trường lập trình cho phù hợp.\n",
    "\n",
    "![Environemts for Python](images/bai00/envspython.png)"
   ]
  },
  {
   "cell_type": "markdown",
   "metadata": {
    "colab_type": "text",
    "id": "DU-GSz1IlX2K"
   },
   "source": [
    "#### Jupyter Notebook"
   ]
  },
  {
   "cell_type": "markdown",
   "metadata": {
    "colab_type": "text",
    "id": "NdUmPsCjlX2M"
   },
   "source": [
    "![Jupyter Notebook Icon](images/bai00/iconjupyter.png)"
   ]
  },
  {
   "cell_type": "markdown",
   "metadata": {
    "colab_type": "text",
    "id": "6imiICmElX2O"
   },
   "source": [
    "**`Jupyter notebook is a very popular and flexible tool which lets us put our code, output of the code and any kind of visualization or plot etc. in the same document.`**"
   ]
  },
  {
   "cell_type": "markdown",
   "metadata": {
    "colab_type": "text",
    "id": "vh7Ew-G2lX2P"
   },
   "source": [
    "Đây là một môi trường dành cho việc lập trình, bên cạnh đó hỗ trợ cho việc ghi chép kết quả và các nội dung diễn giải liên quan đến chương trình, project của bạn. Với môi trường này bạn có thể code ngôn ngữ Python, R, thậm chí là C/C++. Nó rất là thú vị và đáng hứng khởi khi bạn làm việc, bạn có thể ghi lại cảm xúc, suy nghĩ của mình trong lúc code và output của đoạn code mà bạn lập trình sẽ được lưu lại ngay sau bạn run chương trình, dễ dàng cho việc trình bày và xem lại.\n",
    "\n",
    "Đọc thêm: [Jupyter Notebook: An Introduction](https://realpython.com/jupyter-notebook-introduction/)"
   ]
  },
  {
   "cell_type": "markdown",
   "metadata": {
    "colab_type": "text",
    "id": "A_Z9bryilX4a"
   },
   "source": [
    "## 4. Kết luận"
   ]
  },
  {
   "cell_type": "markdown",
   "metadata": {
    "colab_type": "text",
    "id": "ZC6BZofblX4c"
   },
   "source": [
    "**Từ đầu tới giờ nói gì nhỉ ??**\n",
    "- Chúng ta bắt đầu với một giới thiệu ngắn gọn về học máy và các ứng dụng của nó, sau đó thảo luận về sự khác biệt giữa học tập có giám sát và không giám sát và đưa ra một cái nhìn tổng quan về các công cụ mà ta làm việc trong Machine learning. \n",
    "- Sau đó, chúng ta xây dựng nhiệm vụ dự đoán loài Iris mà một loài hoa cụ thể thuộc về bằng cách sử dụng các phép đo vật lý của hoa. Chúng ta đã sử dụng một bộ dữ liệu các phép đo được chú thích bởi một chuyên gia với các loài chính xác để xây dựng mô hình của chúng ta, làm cho việc này trở thành một nhiệm vụ học tập có giám sát.\n",
    "Thực sự Machine  Learning rất lý thú, nó có giúp chúng ta nhiều trong việc nặng nhọc về khối lượng tính toán, độ phức tạp. Nó đem lại tri thức cho bạn trong một khối dữ liệu lớn bạn có, với tri thức đó bạn có thể làm những việc quan trọng và có ý nghĩa. \n",
    "\n",
    "`Chào mừng bạn đến với Machine Learning.`"
   ]
  }
 ],
 "metadata": {
  "colab": {
   "collapsed_sections": [
    "qKR7nMwblX1T",
    "UDHeLAbXlX1W",
    "X3avDkm_lX3i",
    "MJXBOCvplX3t",
    "xl0FGlKUlX38",
    "JLpLYogRlX4F",
    "_t6V8ggJlX4M",
    "azpZKUhgQE3R"
   ],
   "name": "Chapter 01. Introduction.ipynb",
   "provenance": []
  },
  "kernelspec": {
   "display_name": "Python 3",
   "language": "python",
   "name": "python3"
  },
  "language_info": {
   "codemirror_mode": {
    "name": "ipython",
    "version": 3
   },
   "file_extension": ".py",
   "mimetype": "text/x-python",
   "name": "python",
   "nbconvert_exporter": "python",
   "pygments_lexer": "ipython3",
   "version": "3.7.5"
  },
  "latex_envs": {
   "LaTeX_envs_menu_present": true,
   "autoclose": false,
   "autocomplete": true,
   "bibliofile": "biblio.bib",
   "cite_by": "apalike",
   "current_citInitial": 1,
   "eqLabelWithNumbers": true,
   "eqNumInitial": 1,
   "hotkeys": {
    "equation": "Ctrl-E",
    "itemize": "Ctrl-I"
   },
   "labels_anchors": false,
   "latex_user_defs": false,
   "report_style_numbering": false,
   "user_envs_cfg": false
  },
  "toc": {
   "base_numbering": 1,
   "nav_menu": {},
   "number_sections": false,
   "sideBar": true,
   "skip_h1_title": true,
   "title_cell": "Table of Contents",
   "title_sidebar": "Contents",
   "toc_cell": false,
   "toc_position": {
    "height": "calc(100% - 180px)",
    "left": "10px",
    "top": "150px",
    "width": "247px"
   },
   "toc_section_display": true,
   "toc_window_display": true
  }
 },
 "nbformat": 4,
 "nbformat_minor": 1
}
