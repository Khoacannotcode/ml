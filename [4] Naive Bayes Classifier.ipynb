{
 "cells": [
  {
   "cell_type": "markdown",
   "metadata": {},
   "source": [
    "# Chapter 0204. Naive Bayes Classifier"
   ]
  },
  {
   "cell_type": "markdown",
   "metadata": {},
   "source": [
    "Ở phần trước, chúng ta đã một thuật toán thuộc lớp thuật toán Supervied Learning, đó là k-nestest Neighbors (k láng giềng gần nhất). Trong phần này chúng ta sẽ tìm hiểu một thuật toán dựa trên việc phân tích xác suất."
   ]
  },
  {
   "cell_type": "markdown",
   "metadata": {},
   "source": [
    "## Nội dung:\n",
    "1. Nhắc lại lý thuyết.\n",
    "2. **Naive Bayes Classifier.**\n",
    "3. Các phân phối được dùng trong Naive Bayes Classifer.\n",
    "4. **Bài toán lọc Spam**.\n",
    "5. Đánh gía Naive Bayes Classifier.\n",
    "6. Tóm tắt"
   ]
  },
  {
   "cell_type": "markdown",
   "metadata": {},
   "source": [
    "### ---------------------------------------------------------------------------------##----------------------------------------------------------------------------"
   ]
  },
  {
   "cell_type": "markdown",
   "metadata": {},
   "source": [
    "## 1. Nhắc lại lý thuyết"
   ]
  },
  {
   "cell_type": "markdown",
   "metadata": {},
   "source": [
    "Trong cuộc sống ta không biết trước được mọi chuyện sắp xảy ra, điều đó gọi là uncertain(không chắc chắn). Nhưng chúng ta muốn biết khả năng đạt xảy ra sự việc hiện tượng nào đó có thể được biết trước. Đó là động lực cho ngành toán xác suất và thống kê phát triển. "
   ]
  },
  {
   "cell_type": "markdown",
   "metadata": {},
   "source": [
    "### *Các khái niệm*"
   ]
  },
  {
   "cell_type": "markdown",
   "metadata": {},
   "source": [
    "#### Biến cố là gì ?\n",
    "\n",
    "Biến cố là điều xảy ra không được biết trước. Ta thương kí hiệu các biến cố là các chữ cái in hoa: A, B, C,..."
   ]
  },
  {
   "cell_type": "markdown",
   "metadata": {},
   "source": [
    "#### Không gian mẫu là gì ?\n",
    "\n",
    "Không gian mẫu là tập hợp tất cả các biến cố có thể xảy ra."
   ]
  },
  {
   "cell_type": "markdown",
   "metadata": {},
   "source": [
    "#### Xác suất là gì ?\n",
    "\n",
    "Xác suất là khả năng xảy ra của một biến cố. Xác suất là một giá trị nằm trong đoạn $[0,1]$."
   ]
  },
  {
   "cell_type": "markdown",
   "metadata": {},
   "source": [
    "#### Các quy tắc xác suất bao gồm có:\n",
    "- Quy tắc cộng xác suất\n",
    "\n",
    "$$P(A+B) = P(A) + P(B) - P(AB)$$\n",
    "\n",
    "- Quy tắc nhân xác suất\n",
    "$$P(AB) = P(B)P(A|B) = P(A)P(B|A)$$\n",
    "\n",
    "![Product Probability rule](https://www.mathsisfun.com/data/images/probability-tree-coin2.svg)\n",
    "\n",
    "- Xác suất có điều kiện\n",
    "$$P(A|B) = \\frac{P(AB)}{P(B)}$$\n",
    "\n",
    "![Conditional probability rule](https://www.mathsisfun.com/data/images/probability-marbles-tree2.svg)\n",
    "\n",
    "**Xác suất có điều kiện được hiểu như sau: $P(A|B)$ có nghĩa là xác suất xảy ra biến cố A khi biến cố B đã xảy ra**."
   ]
  },
  {
   "cell_type": "markdown",
   "metadata": {},
   "source": [
    "**Sự độc lập** giữa các biến cố(The independence of events): ta gọi hai biến cố được gọi là độc lập khi và chỉ khi khả năng xảy ra biến cố này **không ảnh hưởng** đến khả năng xảy ra của biến cố kia hay nói các khác khả năng xảy ra 2 sự kiện này là độc lập không có tác động lẫn nhau, điều này chỉ xảy ra khi và chỉ khi công thức sau thỏa mãn:\n",
    "$$P(AB) =P(B)P(A|B)= P(A)P(B) $$\n",
    "\n",
    "![Independence events](https://i.pinimg.com/originals/c8/d7/4f/c8d74ff016555a21096814a0ed706f4d.jpg)"
   ]
  },
  {
   "cell_type": "markdown",
   "metadata": {},
   "source": [
    "### *Quy tắc Bayes*"
   ]
  },
  {
   "cell_type": "markdown",
   "metadata": {},
   "source": [
    "Quy tắc Bayes được hình thành từ công thức nhân xác suất.\n",
    "Ta có:\n",
    "$$P(AB) = P(B)P(A|B) = P(A)P(B|A)$$\n",
    ", nếu ta đã biết được các gía trị:\n",
    "    - P(B): xác suất xảy ra biến cố B\n",
    "    - P(A): xác suất xảy ra biến cố A\n",
    "    - P(A|B): xác suất xảy ra biến cố A khi biến cố B \n",
    "Khi đó ta có thể suy ra xác suất xảy ra biến cố B khi biết biến cố A đã xảy ra, và giá trị đó được suy ra từ công thức trên như sau:\n",
    "$$P(B|A) = \\frac{P(A)P(B|A)}{P(B)}$$"
   ]
  },
  {
   "cell_type": "markdown",
   "metadata": {},
   "source": [
    "**Ý nghĩa**: Mang ý nghĩa **nguyên nhân - kết quả**, nếu xem biến cố B là nguyên nhân xảy ra biến cố A(khi đó A la biến cố kết quả của biến cố B). Từ việc kết quả đã xảy ra ta có thể truy ngược lại tính xem xác suất nguyên nhân gây ra kết quả  đó là bao nhiêu."
   ]
  },
  {
   "cell_type": "markdown",
   "metadata": {},
   "source": [
    "Đối với nhiều biến cố, ta có cũng có công thức xác suất Bayes tương ứng:\n",
    "$$P(A_i|B) = \\frac{P(A_i)P(B|A_i)}{\\sum_{i=1}^kP(A_i)P(B|A_i)}$$"
   ]
  },
  {
   "cell_type": "markdown",
   "metadata": {},
   "source": [
    "Công thức xác suất Bayes có nhiều ý nghĩa và ứng trong [khoa học máy tính](https://www.accessscience.com/content/applications-of-bayes-theorem-for-predicting-environmental-damage/YB100249), [trong y tế](https://www.ncbi.nlm.nih.gov/pmc/articles/PMC3153801/), ..."
   ]
  },
  {
   "cell_type": "markdown",
   "metadata": {},
   "source": [
    "Và một dựa vào công thức này, ta có thể xây dựng một thuật toán trong Machine Learning như dưới đây."
   ]
  },
  {
   "cell_type": "markdown",
   "metadata": {},
   "source": [
    "## 2. Naive Bayes Classifier"
   ]
  },
  {
   "cell_type": "markdown",
   "metadata": {},
   "source": [
    "### *Bài toán phân lớp*"
   ]
  },
  {
   "cell_type": "markdown",
   "metadata": {},
   "source": [
    "Xét bài toán classification với C class: $1,2,3,...C$. Giả sử có một điểm dữ liệu $x \\in R^d$, hãy tính xác suất để điểm dữ liệu này rơi vào class c. Nói cách khác, hãy tính:\n",
    "$$p(y=c|x)$$\n",
    "hoặc viết gọn thành $p(x|c)$. Tức là tính **xác suất để đầu ra là class c biết rằng đầu vào là vector $x$**.\n"
   ]
  },
  {
   "cell_type": "markdown",
   "metadata": {},
   "source": [
    "Khi tính được tất cả C giá trị này, ta có thể chọn class nào mà vector $x$ có xác suất rơi vào cao nhất. Tức là tìm class $c^*$ sao cho xác suất rời vào class $c^*$ của vector $x$ là cao nhất, điều này được phát biểu dưới dạng kí hiệu như dưới đây:\n",
    "### $$c^* = arg max_{c \\in {1,2,3,...C}}p(c|x)$$"
   ]
  },
  {
   "cell_type": "markdown",
   "metadata": {},
   "source": [
    "Để tìm được $c^*$ qua công thức trên thì rất khó, nên ở đây ta có một bước giả định, tuy là giả định nhưng mang ý nghĩa. "
   ]
  },
  {
   "cell_type": "markdown",
   "metadata": {},
   "source": [
    "### *Một giả thuyết mang tính quyết định*"
   ]
  },
  {
   "cell_type": "markdown",
   "metadata": {},
   "source": [
    "Tiếp tục khai triển công thức trên bằng công thức Bayes, ta được:\n",
    "### $$c^* = argmax_{c}\\frac{p(c)p(x|c)}{p(x)}$$"
   ]
  },
  {
   "cell_type": "markdown",
   "metadata": {},
   "source": [
    "Do $p(x) = 1$ (vì vector x đã xảy ra), nên:\n",
    "### $$c^* = argmax_{c}p(c)p(x|c)$$ "
   ]
  },
  {
   "cell_type": "markdown",
   "metadata": {},
   "source": [
    "Quan sát các thành phần trong công thức, ta có:\n",
    "- $p(c)$ là xác suất xảy ra biến cố $c$, mà c là một lớp trong $C$ lớp nên, giá trị $p(c)$ này được tính bằng số điểm dữ liệu rơi vào phân lớp $c$ chia cho tổng số điểm dữ liệu dataset.\n",
    "$$p(c) = \\frac{N_c}{N}$$\n",
    "- $p(x|c)$ là xác suất xảy ra biến cố $x$ khi đã biết biến cố $c$ xảy ra. **Việc hiểu ý nghĩa giá trị $p(x|c)$ rất quan trọng, và mấu chốt của thuật toán Naive Bayes Classifier nằm ở đây**."
   ]
  },
  {
   "cell_type": "markdown",
   "metadata": {},
   "source": [
    "Giá trị $p(x|c)$ được tính như sau, đầu tiên vector $x$ là một vector có $d$ chiều, tức có $d$ thành phần, cho nên việc tính $p(x|c)$ được chuyển thành:\n",
    "$$p(x|c)= p([x_1,x_2,x_3,...,x_d],c)$$"
   ]
  },
  {
   "cell_type": "markdown",
   "metadata": {},
   "source": [
    "Hiểu một cách tường tận công thức $p([x_1,x_2,x_3,...,x_d],c)$: phân phối của các điểm dữ liệu trong class $c$, giá trị này thường rất khó tính toán vì là một biến ngẫu nhiên nhiều chiều. Vì vậy, **người ta cho rằng tất cả các đặc trưng của vector đặc trưng $x$ này đều độc lập với nhau**, điều nay dẫn đến:\n",
    "$$p(x|c) =p([x_1,x_2,x_3,...,x_d],c) = p(x_1|c)p(x_2|c)p(x_3|c)...p(x_d|c)=\\prod_{i=1}^d p(x_i|c)$$"
   ]
  },
  {
   "cell_type": "markdown",
   "metadata": {},
   "source": [
    "**Giả thiết các chiều của dữ liệu độc lập với nhau, nếu biết $c$, là quá chặt và ít khi tìm được dữ liệu mà các thành phần hoàn toàn độc lập với nhau**. Tuy nhiên, **giả thiết ngây thơ(naive)** này lại mang lại những kết quả tốt bất ngờ. Giả thiết về sự độc lập của các chiều dữ liệu này được gọi là Naive Bayes. Cách xác định class của dữ liệu dựa trên giả thiết này có tên là Naive Bayes Classifier (NBC)."
   ]
  },
  {
   "cell_type": "markdown",
   "metadata": {},
   "source": []
  },
  {
   "cell_type": "markdown",
   "metadata": {},
   "source": []
  },
  {
   "cell_type": "markdown",
   "metadata": {},
   "source": [
    "## 3. Các phân phối thường dùng trong Naive Bayes Classifier"
   ]
  },
  {
   "cell_type": "markdown",
   "metadata": {},
   "source": [
    "### *Phân phối chuẩn (Gausian naive Bayes)*"
   ]
  },
  {
   "cell_type": "code",
   "execution_count": null,
   "metadata": {},
   "outputs": [],
   "source": []
  },
  {
   "cell_type": "code",
   "execution_count": null,
   "metadata": {},
   "outputs": [],
   "source": []
  },
  {
   "cell_type": "code",
   "execution_count": null,
   "metadata": {},
   "outputs": [],
   "source": []
  },
  {
   "cell_type": "code",
   "execution_count": null,
   "metadata": {},
   "outputs": [],
   "source": []
  },
  {
   "cell_type": "markdown",
   "metadata": {},
   "source": [
    "### *Multinomial naive Bayes*"
   ]
  },
  {
   "cell_type": "code",
   "execution_count": null,
   "metadata": {},
   "outputs": [],
   "source": []
  },
  {
   "cell_type": "code",
   "execution_count": null,
   "metadata": {},
   "outputs": [],
   "source": []
  },
  {
   "cell_type": "code",
   "execution_count": null,
   "metadata": {},
   "outputs": [],
   "source": []
  },
  {
   "cell_type": "code",
   "execution_count": null,
   "metadata": {},
   "outputs": [],
   "source": []
  },
  {
   "cell_type": "markdown",
   "metadata": {},
   "source": [
    "### *Phân phối Bernouli*"
   ]
  },
  {
   "cell_type": "code",
   "execution_count": null,
   "metadata": {},
   "outputs": [],
   "source": []
  },
  {
   "cell_type": "code",
   "execution_count": null,
   "metadata": {},
   "outputs": [],
   "source": []
  },
  {
   "cell_type": "code",
   "execution_count": null,
   "metadata": {},
   "outputs": [],
   "source": []
  },
  {
   "cell_type": "code",
   "execution_count": null,
   "metadata": {},
   "outputs": [],
   "source": []
  },
  {
   "cell_type": "markdown",
   "metadata": {},
   "source": [
    "## 4. Bài toán lọc spam"
   ]
  },
  {
   "cell_type": "markdown",
   "metadata": {},
   "source": [
    "### *Giới thiệu bài toán*\n"
   ]
  },
  {
   "cell_type": "code",
   "execution_count": null,
   "metadata": {},
   "outputs": [],
   "source": []
  },
  {
   "cell_type": "code",
   "execution_count": null,
   "metadata": {},
   "outputs": [],
   "source": []
  },
  {
   "cell_type": "markdown",
   "metadata": {},
   "source": [
    "### *Bộ cơ sở dữ liệu Ling-Spam*"
   ]
  },
  {
   "cell_type": "code",
   "execution_count": null,
   "metadata": {},
   "outputs": [],
   "source": []
  },
  {
   "cell_type": "code",
   "execution_count": null,
   "metadata": {},
   "outputs": [],
   "source": []
  },
  {
   "cell_type": "code",
   "execution_count": null,
   "metadata": {},
   "outputs": [],
   "source": []
  },
  {
   "cell_type": "code",
   "execution_count": null,
   "metadata": {},
   "outputs": [],
   "source": []
  },
  {
   "cell_type": "markdown",
   "metadata": {},
   "source": [
    "### *Giải quyết bài toán*"
   ]
  },
  {
   "cell_type": "code",
   "execution_count": null,
   "metadata": {},
   "outputs": [],
   "source": []
  },
  {
   "cell_type": "code",
   "execution_count": null,
   "metadata": {},
   "outputs": [],
   "source": []
  },
  {
   "cell_type": "code",
   "execution_count": null,
   "metadata": {},
   "outputs": [],
   "source": []
  },
  {
   "cell_type": "code",
   "execution_count": null,
   "metadata": {},
   "outputs": [],
   "source": []
  },
  {
   "cell_type": "code",
   "execution_count": null,
   "metadata": {},
   "outputs": [],
   "source": []
  },
  {
   "cell_type": "markdown",
   "metadata": {},
   "source": [
    "## 5. Đánh giá Naive Bayes Classifier"
   ]
  },
  {
   "cell_type": "markdown",
   "metadata": {},
   "source": [
    "- Naive Bayes Classifiers (NBC) thường được sử dụng trong các bài toán **Text Classification**.\n",
    "\n",
    "- NBC có **thời gian training và test rất nhanh**. Điều này có được là do **giả sử về tính độc lập giữa các thành phần, nếu biết class**."
   ]
  },
  {
   "cell_type": "markdown",
   "metadata": {},
   "source": [
    "- Nếu **giả sử về tính độc lập được thoả mãn** (dựa vào `bản chất của dữ liệu`), *NBC được cho là cho kết quả tốt hơn so với SVM và logistic regression khi có ít dữ liệu training*"
   ]
  },
  {
   "cell_type": "markdown",
   "metadata": {},
   "source": [
    "- NBC có thể hoạt động với các **feature vector mà một phần là liên tục (sử dụng Gaussian Naive Bayes), phần còn lại ở dạng rời rạc (sử dụng Multinomial hoặc Bernoulli)**.\n"
   ]
  },
  {
   "cell_type": "markdown",
   "metadata": {},
   "source": [
    "- Khi sử dụng Multinomial Naive Bayes, Laplace smoothing thường được sử dụng để tránh trường hợp 1 thành phần trong test data chưa xuất hiện ở training data."
   ]
  },
  {
   "cell_type": "markdown",
   "metadata": {},
   "source": [
    "## 6. Tóm tắt"
   ]
  },
  {
   "cell_type": "markdown",
   "metadata": {},
   "source": [
    "Trong phần này chúng ta đã ôn lại lý thuyết xác suất và ứng dụng công thức Bayes vào Machine Learning. Thuật toán Naive Bayes Classifier được hình thành nhờ việc giả định sự độc lập giữa các features từ đó make powerful cho việc tìm lời giải sau này. Trong phần sau chúng ta sẽ tìm hiểu tiếp tục một thuật toán khá là phổ biến và dùng nhiều cho đến ngày nay, **Support Vector Machine(SVM)**."
   ]
  }
 ],
 "metadata": {
  "kernelspec": {
   "display_name": "Python 3",
   "language": "python",
   "name": "python3"
  },
  "language_info": {
   "codemirror_mode": {
    "name": "ipython",
    "version": 3
   },
   "file_extension": ".py",
   "mimetype": "text/x-python",
   "name": "python",
   "nbconvert_exporter": "python",
   "pygments_lexer": "ipython3",
   "version": "3.7.5"
  },
  "latex_envs": {
   "LaTeX_envs_menu_present": true,
   "autoclose": false,
   "autocomplete": true,
   "bibliofile": "biblio.bib",
   "cite_by": "apalike",
   "current_citInitial": 1,
   "eqLabelWithNumbers": true,
   "eqNumInitial": 1,
   "hotkeys": {
    "equation": "Ctrl-E",
    "itemize": "Ctrl-I"
   },
   "labels_anchors": false,
   "latex_user_defs": false,
   "report_style_numbering": false,
   "user_envs_cfg": false
  },
  "toc": {
   "base_numbering": 1,
   "nav_menu": {},
   "number_sections": false,
   "sideBar": true,
   "skip_h1_title": true,
   "title_cell": "Table of Contents",
   "title_sidebar": "Contents",
   "toc_cell": false,
   "toc_position": {},
   "toc_section_display": true,
   "toc_window_display": false
  }
 },
 "nbformat": 4,
 "nbformat_minor": 2
}
